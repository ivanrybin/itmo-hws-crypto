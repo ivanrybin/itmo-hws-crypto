{
 "cells": [
  {
   "cell_type": "markdown",
   "metadata": {},
   "source": [
    "#### Cryptography\n",
    "#### Task № 2 - DES\n",
    "#### Ivan Rybin - ITMO JB SE MA 2021"
   ]
  },
  {
   "cell_type": "code",
   "execution_count": 1,
   "metadata": {},
   "outputs": [],
   "source": [
    "import des_data"
   ]
  },
  {
   "cell_type": "code",
   "execution_count": 2,
   "metadata": {},
   "outputs": [],
   "source": [
    "def xor_bytes(l, r):\n",
    "    return bytearray([lb ^ rb for lb, rb in zip(l, r)])\n",
    "\n",
    "def xor_bits(l, r):\n",
    "    return \"\".join([str(int(lb) ^ int(rb)) for lb, rb in zip(l, r)])\n",
    "\n",
    "def stobytes(s):\n",
    "    return s.encode('utf-8')\n",
    "\n",
    "def sto64(bits):\n",
    "    while len(bits) % 64 != 0:\n",
    "        bits += '0'\n",
    "    return bits\n",
    "\n",
    "def to8bits(bits):\n",
    "    while len(bits) < 8:\n",
    "        bits = '0' + bits\n",
    "    return bits\n",
    "\n",
    "def to4bits(bits):\n",
    "    while len(bits) < 4:\n",
    "        bits = '0' + bits\n",
    "    return bits\n",
    "\n",
    "def stobits(s):\n",
    "    b = \"\"\n",
    "    for c in stobytes(s):\n",
    "        b += to8bits(bin(c)[2:])\n",
    "    return b\n",
    "\n",
    "def btoi(b):\n",
    "    i = 0\n",
    "    k = 0\n",
    "    for c in reversed(b):\n",
    "        i += int(c) * (2 ** k)\n",
    "        k += 1\n",
    "    return i\n",
    "\n",
    "def bytestos(b):\n",
    "    return b.decode('utf-8')\n",
    "\n",
    "def bitstos(bits):\n",
    "    s = []\n",
    "    for b in split_to_blocks(bits, 8):\n",
    "        s.append(btoi(b))\n",
    "    return bytearray(s)\n",
    "\n",
    "def perm(p, b):\n",
    "    return ''.join([b[i] for i in p])\n",
    "\n",
    "def split_to_blocks(b, block_size):\n",
    "    blocks = []\n",
    "    for i in range(1, int((len(b) + block_size) / block_size)):\n",
    "        blocks.append(b[(i - 1) * block_size: i * block_size])\n",
    "    return blocks"
   ]
  },
  {
   "cell_type": "code",
   "execution_count": 15,
   "metadata": {},
   "outputs": [],
   "source": [
    "def ip_perm(b):\n",
    "    return perm(des_data.ip_perm, b)\n",
    "\n",
    "def ip_inv_perm(b):\n",
    "    return perm(des_data.ip_inv_perm, b)\n",
    "\n",
    "def p_perm(b):\n",
    "    return perm(des_data.p_perm, b)\n",
    "\n",
    "def g_perm(b):\n",
    "    return perm(des_data.g_perm, b)\n",
    "\n",
    "def h_perm(b):\n",
    "    return perm(des_data.h_perm, b)"
   ]
  },
  {
   "cell_type": "code",
   "execution_count": 17,
   "metadata": {},
   "outputs": [],
   "source": [
    "# Encrypted function f(R, K)\n",
    "def extend_perm(b):\n",
    "    return perm(des_data.extend_perm, b)\n",
    "\n",
    "\n",
    "def get_s_block_value(block, s_block):\n",
    "    row = btoi(block[0] + block[-1]) # b1b6\n",
    "    col = btoi(block[1:-1]) # b2b3b4b5\n",
    "    return s_block[row * 16 + col]\n",
    "\n",
    "\n",
    "def s_blocks_func(blocks):\n",
    "    new_bits = ''\n",
    "    for i in range(0, 8):\n",
    "        s_block = des_data.s_blocks[i]\n",
    "        new_block = get_s_block_value(blocks[i], s_block)\n",
    "        new_bits += to4bits(bin(new_block)[2:])\n",
    "    return new_bits\n",
    "\n",
    "\n",
    "# R(i-1) -> E -> r ^ key -> s1-s8 -> 8 blocks x 4 bites -> P -> f(R(i-1), K(i))\n",
    "def encrypt_func(r, key):\n",
    "    # r: 32 bites -> r_extend: 48 bites\n",
    "    r_extend = extend_perm(r)    \n",
    "    r_xor_key = xor_bits(r_extend, key) # key: 48 bites\n",
    "    blocks = split_to_blocks(r_xor_key, 6) # 8 blocks x 6 bites\n",
    "    new_r = s_blocks_func(blocks)\n",
    "    new_r = p_perm(new_r)\n",
    "    return new_r"
   ]
  },
  {
   "cell_type": "code",
   "execution_count": 18,
   "metadata": {},
   "outputs": [],
   "source": [
    "# Key generator\n",
    "\n",
    "def key64_56(key):\n",
    "    bits = stobits(key)\n",
    "    return g_perm(bits)\n",
    "\n",
    "\n",
    "def cyclic_offset(b, offset):\n",
    "    new_b = ''\n",
    "    for i in range(offset, offset + len(b)):\n",
    "        new_b += b[i % len(b)]\n",
    "    return new_b\n",
    "\n",
    "\n",
    "def get_all_keys(key):\n",
    "    c = []\n",
    "    d = []\n",
    "    keys = []\n",
    "    key_56 = key64_56(key)\n",
    "    c.append(key_56[0:28])\n",
    "    d.append(key_56[28:])\n",
    "    for i in range(1, 17): # from 1 to 16\n",
    "        offset = des_data.key_offsets[i - 1]\n",
    "        c_i = cyclic_offset(c[i - 1], offset)\n",
    "        d_i = cyclic_offset(d[i - 1], offset)\n",
    "        key_i = h_perm(c_i + d_i)\n",
    "        keys.append(key_i)\n",
    "        c.append(c_i); d.append(d_i)\n",
    "        \n",
    "    return keys"
   ]
  },
  {
   "cell_type": "code",
   "execution_count": 20,
   "metadata": {},
   "outputs": [],
   "source": [
    "# DES algotithm\n",
    "def DES_round(block, key):\n",
    "    l = block[0:32]\n",
    "    r = block[32:]\n",
    "    new_l = r; new_r = xor_bits(l, encrypt_func(r, key))\n",
    "    return new_l, new_r\n",
    "\n",
    "\n",
    "def DES(s, key, encrypt=True):\n",
    "    bits = sto64(stobits(s)) if encrypt else s\n",
    "    blocks = split_to_blocks(bits, 64) # N blocks x 64 bits\n",
    "    keys = get_all_keys(key) # all keys k_i, i=0..16\n",
    "    if not encrypt:\n",
    "        keys = [item for item in reversed(keys)]\n",
    "        \n",
    "    new_blocks = []\n",
    "    for i in range(0, len(blocks)):\n",
    "        block = blocks[i]\n",
    "        # ip permutation\n",
    "        block = ip_perm(block)\n",
    "        # 16 rounds\n",
    "        for i in range(0, 16):\n",
    "            key = keys[i]\n",
    "            # encryption function f(R, K)\n",
    "            l, r = DES_round(block, key)\n",
    "            block = l + r\n",
    "        # LR-permutation \n",
    "        block = block[32:] + block[0:32]\n",
    "        # ip inv perm\n",
    "        block = ip_inv_perm(block)\n",
    "        \n",
    "        new_blocks.append(block)\n",
    "    # concat all blocks\n",
    "    return ''.join(new_blocks)"
   ]
  },
  {
   "cell_type": "code",
   "execution_count": 21,
   "metadata": {},
   "outputs": [
    {
     "name": "stdout",
     "output_type": "stream",
     "text": [
      "Source message (576 bits):\n",
      "\n",
      "011101000110100001101001011100110010000001101101011001010111001101110011011000010110011101100101001000000111011101100001011100110010000001100101011011100110001101110010011110010111000001110100011001010110010000100000011101110110100101110100011010000010000001000100010001010101001100100000011000010110110001100111011011110111001001101001011101000110100001101101001000000111011101101001011101000110100000100000011010110110010101111001001000000010001001100011011100100111100101110000011101000110111100110100001100100010001000000000000000000000000000000000000000000000000000000000\n"
     ]
    }
   ],
   "source": [
    "key = 'crypto42'\n",
    "message = 'this message was encrypted with DES algorithm with key \"crypto42\"'\n",
    "message_bits = sto64(stobits(message))\n",
    "print(f'Source message ({len(encrypted)} bits):\\n\\n{message_bits}')"
   ]
  },
  {
   "cell_type": "code",
   "execution_count": 22,
   "metadata": {},
   "outputs": [
    {
     "name": "stdout",
     "output_type": "stream",
     "text": [
      "Encrypted message (576 bits):\n",
      "\n",
      "010010001110110111110010101001001011000010101100000010010100101011111011010010110110111011001001001001010111011101000100100101010001110100101011110001101111101010111101110001101000110111010001010001010001101100010000110110000110010001100001011011110010101101001101010110001010111101010000011001111011011111110100010001001111001001000010101110110101101110011100010001001111010011010011001100001110111111000001000101111000110110000110000011100011110110110110011010100001100010001111011100100011100011101010011110000001110001111101101010001110001111101011011100111100001101110100\n"
     ]
    }
   ],
   "source": [
    "encrypted = DES(message, key, encrypt=True)\n",
    "print(f'Encrypted message ({len(encrypted)} bits):\\n\\n{encrypted}')"
   ]
  },
  {
   "cell_type": "code",
   "execution_count": 23,
   "metadata": {
    "scrolled": true
   },
   "outputs": [
    {
     "name": "stdout",
     "output_type": "stream",
     "text": [
      "Decrypted message (576 bits):\n",
      "\n",
      "011101000110100001101001011100110010000001101101011001010111001101110011011000010110011101100101001000000111011101100001011100110010000001100101011011100110001101110010011110010111000001110100011001010110010000100000011101110110100101110100011010000010000001000100010001010101001100100000011000010110110001100111011011110111001001101001011101000110100001101101001000000111011101101001011101000110100000100000011010110110010101111001001000000010001001100011011100100111100101110000011101000110111100110100001100100010001000000000000000000000000000000000000000000000000000000000\n",
      "\n",
      "\n",
      "Is decrypted bits == source bits: True\n",
      "\n",
      "\n",
      "Decrypted message: `this message was encrypted with DES algorithm with key \"crypto42\"\u0000\u0000\u0000\u0000\u0000\u0000\u0000`\n"
     ]
    }
   ],
   "source": [
    "decrypted = DES(encrypted, key, encrypt=False)\n",
    "print(f'Decrypted message ({len(encrypted)} bits):\\n\\n{decrypted}\\n\\n')\n",
    "print(f'Is decrypted bits == source bits: {decrypted == message_bits}\\n\\n')\n",
    "print(f'Decrypted message: `{bitstos(decrypted).decode(\"utf-8\")}`')"
   ]
  }
 ],
 "metadata": {
  "kernelspec": {
   "display_name": "Python 3",
   "language": "python",
   "name": "python3"
  },
  "language_info": {
   "codemirror_mode": {
    "name": "ipython",
    "version": 3
   },
   "file_extension": ".py",
   "mimetype": "text/x-python",
   "name": "python",
   "nbconvert_exporter": "python",
   "pygments_lexer": "ipython3",
   "version": "3.6.9"
  }
 },
 "nbformat": 4,
 "nbformat_minor": 2
}
