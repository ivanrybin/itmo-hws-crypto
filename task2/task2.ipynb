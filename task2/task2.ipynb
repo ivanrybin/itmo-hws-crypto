{
 "cells": [
  {
   "cell_type": "markdown",
   "metadata": {},
   "source": [
    "#### Cryptography\n",
    "#### Task № 2 - DES\n",
    "#### Ivan Rybin - ITMO JB SE MA 2021"
   ]
  },
  {
   "cell_type": "code",
   "execution_count": 1,
   "metadata": {},
   "outputs": [],
   "source": [
    "import des_data"
   ]
  },
  {
   "cell_type": "code",
   "execution_count": 47,
   "metadata": {},
   "outputs": [],
   "source": [
    "def xor_bytes(l, r):\n",
    "    return bytearray([lb ^ rb for lb, rb in zip(l, r)])\n",
    "\n",
    "def xor_bits(l, r):\n",
    "    return \"\".join([str(int(lb) ^ int(rb)) for lb, rb in zip(l, r)])\n",
    "\n",
    "def stobytes(s):\n",
    "    return s.encode('utf-8')\n",
    "\n",
    "def sto64(bits):\n",
    "    while len(bits) % 64 != 0:\n",
    "        bits += '0'\n",
    "    return bits\n",
    "\n",
    "def to8bits(bits):\n",
    "    while len(bits) < 8:\n",
    "        bits = '0' + bits\n",
    "    return bits\n",
    "\n",
    "def to4bits(bits):\n",
    "    while len(bits) < 4:\n",
    "        bits = '0' + bits\n",
    "    return bits\n",
    "\n",
    "def stobits(s):\n",
    "    b = \"\"\n",
    "    for c in stobytes(s):\n",
    "        b += to8bits(bin(c)[2:])\n",
    "    return b\n",
    "\n",
    "def btoi(b):\n",
    "    i = 0\n",
    "    k = 0\n",
    "    for c in reversed(b):\n",
    "        i += int(c) * (2 ** k)\n",
    "        k += 1\n",
    "    return i\n",
    "\n",
    "def bytestos(b):\n",
    "    return b.decode('utf-8')\n",
    "\n",
    "def bitstos(bits):\n",
    "    s = []\n",
    "    for b in split_to_blocks(bits, 8):\n",
    "        s.append(btoi(b))\n",
    "    return bytearray(s)\n",
    "\n",
    "def perm(p, b):\n",
    "    return ''.join([b[i] for i in p])\n",
    "\n",
    "def split_to_blocks(b, block_size):\n",
    "    blocks = []\n",
    "    for i in range(1, int((len(b) + block_size) / block_size)):\n",
    "        blocks.append(b[(i - 1) * block_size: i * block_size])\n",
    "    return blocks"
   ]
  },
  {
   "cell_type": "code",
   "execution_count": 48,
   "metadata": {},
   "outputs": [],
   "source": [
    "def ip_perm(b):\n",
    "    return perm(des_data.ip_perm, b)\n",
    "\n",
    "def ip_inv_perm(b):\n",
    "    return perm(des_data.ip_inv_perm, b)\n",
    "\n",
    "def p_perm(b):\n",
    "    return perm(des_data.p_perm, b)\n",
    "\n",
    "def g_perm(b):\n",
    "    return perm(des_data.g_perm, b)\n",
    "\n",
    "def h_perm(b):\n",
    "    return perm(des_data.h_perm, b)\n",
    "\n",
    "def calc_r(l, r_prev, key):\n",
    "    return xor_bits(l, encrypt_func(r_prev, key))"
   ]
  },
  {
   "cell_type": "code",
   "execution_count": 49,
   "metadata": {},
   "outputs": [],
   "source": [
    "def extend_perm(b):\n",
    "    return perm(des_data.extend_perm, b)\n",
    "\n",
    "def get_s_block_value(block, s_block):\n",
    "    row = btoi(block[0] + block[-1]) # b1b6\n",
    "    col = btoi(block[1:-1]) # b2b3b4b5\n",
    "    return s_block[row * 16 + col]\n",
    "\n",
    "def s_blocks_func(blocks):\n",
    "    new_bits = ''\n",
    "    for i in range(0, 8):\n",
    "        s_block = des_data.s_blocks[i]\n",
    "        new_block = get_s_block_value(blocks[i], s_block)\n",
    "        new_bits += to4bits(bin(new_block)[2:])\n",
    "    return new_bits\n",
    "\n",
    "\n",
    "def encrypt_func(r, key):\n",
    "    # r: 32 bites -> r_extend: 48 bites\n",
    "    r_extend = extend_perm(r)    \n",
    "    r_xor_key = xor_bits(r_extend, key) # key: 48 bites\n",
    "    blocks = split_to_blocks(r_xor_key, 6) # 8 blocks x 6 bites\n",
    "    new_r = s_blocks_func(blocks)\n",
    "    new_r = p_perm(new_r)\n",
    "    return new_r"
   ]
  },
  {
   "cell_type": "code",
   "execution_count": 50,
   "metadata": {},
   "outputs": [],
   "source": [
    "def key64_56(key):\n",
    "    bits = stobits(key)\n",
    "    return g_perm(bits)\n",
    "\n",
    "\n",
    "def cyclic_offset(b, offset):\n",
    "    new_b = ''\n",
    "    for i in range(offset, offset + len(b)):\n",
    "        new_b += b[i % len(b)]\n",
    "    return new_b\n",
    "\n",
    "\n",
    "def get_all_keys(key):\n",
    "    c = []\n",
    "    d = []\n",
    "    keys = []\n",
    "    key_56 = key64_56(key)\n",
    "    c.append(key_56[0:28])\n",
    "    d.append(key_56[28:])\n",
    "    for i in range(1, 17): # from 1 to 16\n",
    "        offset = des_data.key_offsets[i - 1]\n",
    "        c_i = cyclic_offset(c[i - 1], offset)\n",
    "        d_i = cyclic_offset(d[i - 1], offset)\n",
    "        key_i = h_perm(c_i + d_i)\n",
    "        keys.append(key_i)\n",
    "        c.append(c_i); d.append(d_i)\n",
    "        \n",
    "    return keys"
   ]
  },
  {
   "cell_type": "code",
   "execution_count": 51,
   "metadata": {},
   "outputs": [],
   "source": [
    "def des_encrypt_round(block, key):\n",
    "    l = block[0:32]\n",
    "    r = block[32:]\n",
    "    new_l = r; new_r = xor_bits(l, encrypt_func(r, key))\n",
    "    return new_l, new_r\n",
    "\n",
    "\n",
    "def des_decrypt_round(block, key):\n",
    "    l = block[0:32]\n",
    "    r = block[32:]\n",
    "    new_l = xor_bits(r, encrypt_func(l, key)); new_r = l\n",
    "    return new_l, new_r\n",
    "\n",
    "\n",
    "def des_encrypt(s, key):\n",
    "    sbits = sto64(stobits(s)) # bits string\n",
    "    sblocks = split_to_blocks(sbits, 64) # N blocks x 64 bits\n",
    "    keys = get_all_keys(key) # all keys k_i, i=0..16\n",
    "    \n",
    "    encrypt_blocks = []\n",
    "    for i in range(0, len(sblocks)):\n",
    "        sblock = sblocks[i]\n",
    "        # ip permutation\n",
    "        sblock = ip_perm(sblock)\n",
    "        # 15 rounds\n",
    "        for i in range(0, 16): # from 1 to 16\n",
    "            key = keys[i]\n",
    "            l, r = des_encrypt_round(sblock, key)\n",
    "            sblock = l + r\n",
    "        sblock = sblock[32:] + sblock[0:32]\n",
    "        # ip inv perm\n",
    "        sblock = ip_inv_perm(sblock)\n",
    "        encrypt_blocks.append(sblock)\n",
    "    return ''.join(encrypt_blocks)\n",
    "\n",
    "\n",
    "def des_decrypt(e, key):\n",
    "    eblocks = split_to_blocks(e, 64) # N blocks x 64 bits\n",
    "    keys = get_all_keys(key) # all keys k_i, i=0..16\n",
    "    keys = [item for item in reversed(keys)]\n",
    "    \n",
    "    decrypt_blocks = []\n",
    "    for i in range(0, len(eblocks)):\n",
    "        eblock = eblocks[i]\n",
    "        eblock = ip_perm(eblock)\n",
    "        for i in range(0, 16): # from 1 to 16\n",
    "            key = keys[i]\n",
    "            l, r = des_encrypt_round(eblock, key)\n",
    "            eblock = l + r\n",
    "        # ip inv perm\n",
    "        eblock = eblock[32:] + eblock[0:32]\n",
    "        eblock = ip_inv_perm(eblock)\n",
    "        decrypt_blocks.append(eblock)\n",
    "    return ''.join(decrypt_blocks)"
   ]
  },
  {
   "cell_type": "code",
   "execution_count": 52,
   "metadata": {},
   "outputs": [
    {
     "name": "stdout",
     "output_type": "stream",
     "text": [
      "11010001100011011101000110000010110100001011111000100000110100011000000111010000101111101101000010111110110100001011000111010001100010011101000010110101110100001011110111010000101110001101000010110101001000001101000010110001110100011000101111010000101110111101000010111110001000001101000010110111110100001011000011010001100010001101000010111000110100011000010011010001100000001101000010111110110100001011001011010000101100001101000010111101110100001011111000100000010001000100010101010011001000001101000010110000110100001011101111010000101100111101000010111110110100011000000011010000101110001101000110000010110100001011110011010000101111101101000010111100001000001101000110000001001000001101000010111010110100001011101111010001100011101101000110000111110100001011111011010000101111000010000001100011011100100111100101110000011101000110111100110100001100100000000000000000000000000000000000000000\n"
     ]
    }
   ],
   "source": [
    "key = 'crypto42'\n",
    "message = 'это сообщение было зашифровано DES алгоритмом с ключом crypto42'\n",
    "message_bits = sto64(stobits(message))\n",
    "print(message_bits)"
   ]
  },
  {
   "cell_type": "code",
   "execution_count": 53,
   "metadata": {},
   "outputs": [
    {
     "name": "stdout",
     "output_type": "stream",
     "text": [
      "10011001111000111010110010110010110111010100110110001010100011011101010011011101001111111111100100111111110110110001111001100010010111010001010101100111011000011011100010100000101101000110100111000110111010001101011110000111010011100101001110101111001001101111010011011101000111101111001000101010000100100101111111101001000111011101010000111011100010101000100010011001001100010011111101011111111000010100101011100011001000100000010011001011111000010011110111101110010101101010010000111001100100111010111001001110001011011011110111101010010000111100100100000111011010101100100101100000011000100110111010010110001011011001001100100111100111001100101111100001110101101010001001011000010000111010111100100111010011011111010101101111101011000000101111001101011100111001011101011001001101100110100110110110110100100011011110111101000100000010001011010010101101100100010110000000110010000110011110110010\n"
     ]
    }
   ],
   "source": [
    "encrypted = des_encrypt(message, key)\n",
    "print(f'{encrypted}')"
   ]
  },
  {
   "cell_type": "code",
   "execution_count": 54,
   "metadata": {},
   "outputs": [
    {
     "name": "stdout",
     "output_type": "stream",
     "text": [
      "11010001100011011101000110000010110100001011111000100000110100011000000111010000101111101101000010111110110100001011000111010001100010011101000010110101110100001011110111010000101110001101000010110101001000001101000010110001110100011000101111010000101110111101000010111110001000001101000010110111110100001011000011010001100010001101000010111000110100011000010011010001100000001101000010111110110100001011001011010000101100001101000010111101110100001011111000100000010001000100010101010011001000001101000010110000110100001011101111010000101100111101000010111110110100011000000011010000101110001101000110000010110100001011110011010000101111101101000010111100001000001101000110000001001000001101000010111010110100001011101111010001100011101101000110000111110100001011111011010000101111000010000001100011011100100111100101110000011101000110111100110100001100100000000000000000000000000000000000000000\n"
     ]
    }
   ],
   "source": [
    "decrypted = des_decrypt(encrypted, key)\n",
    "print(f'{decrypted}')"
   ]
  },
  {
   "cell_type": "code",
   "execution_count": 55,
   "metadata": {},
   "outputs": [
    {
     "data": {
      "text/plain": [
       "True"
      ]
     },
     "execution_count": 55,
     "metadata": {},
     "output_type": "execute_result"
    }
   ],
   "source": [
    "decrypted == message_bits"
   ]
  },
  {
   "cell_type": "code",
   "execution_count": 57,
   "metadata": {},
   "outputs": [
    {
     "data": {
      "text/plain": [
       "'это сообщение было зашифровано DES алгоритмом с ключом crypto42\\x00\\x00\\x00\\x00\\x00'"
      ]
     },
     "execution_count": 57,
     "metadata": {},
     "output_type": "execute_result"
    }
   ],
   "source": [
    "bitstos(decrypted).decode('utf-8')"
   ]
  }
 ],
 "metadata": {
  "kernelspec": {
   "display_name": "Python 3",
   "language": "python",
   "name": "python3"
  },
  "language_info": {
   "codemirror_mode": {
    "name": "ipython",
    "version": 3
   },
   "file_extension": ".py",
   "mimetype": "text/x-python",
   "name": "python",
   "nbconvert_exporter": "python",
   "pygments_lexer": "ipython3",
   "version": "3.6.9"
  }
 },
 "nbformat": 4,
 "nbformat_minor": 2
}
