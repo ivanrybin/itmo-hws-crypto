{
 "cells": [
  {
   "cell_type": "markdown",
   "metadata": {},
   "source": [
    "#### Cryptography\n",
    "#### Task № 3 - G(H)OST 28147-89\n",
    "#### Ivan Rybin - ITMO JB SE MA 2021"
   ]
  },
  {
   "cell_type": "code",
   "execution_count": 1,
   "metadata": {},
   "outputs": [],
   "source": [
    "import gost_data"
   ]
  },
  {
   "cell_type": "code",
   "execution_count": 2,
   "metadata": {},
   "outputs": [],
   "source": [
    "def xor_bytes(l, r):\n",
    "    return bytearray([lb ^ rb for lb, rb in zip(l, r)])\n",
    "\n",
    "def xor_bits(l, r):\n",
    "    return \"\".join([str(int(lb) ^ int(rb)) for lb, rb in zip(l, r)])\n",
    "\n",
    "def stobytes(s):\n",
    "    return s.encode('utf-8')\n",
    "\n",
    "def sto64(bits):\n",
    "    while len(bits) % 64 != 0:\n",
    "        bits += '0'\n",
    "    return bits\n",
    "\n",
    "def to8bits(bits):\n",
    "    while len(bits) < 8:\n",
    "        bits = '0' + bits\n",
    "    return bits\n",
    "\n",
    "def to4bits(bits):\n",
    "    while len(bits) < 4:\n",
    "        bits = '0' + bits\n",
    "    return bits\n",
    "\n",
    "def stobits(s):\n",
    "    b = \"\"\n",
    "    for c in stobytes(s):\n",
    "        b += to8bits(bin(c)[2:])\n",
    "    return b\n",
    "\n",
    "def btoi(b):\n",
    "    i = 0\n",
    "    k = 0\n",
    "    for c in reversed(b):\n",
    "        i += int(c) * (2 ** k)\n",
    "        k += 1\n",
    "    return i\n",
    "\n",
    "def bytestos(b):\n",
    "    return b.decode('utf-8')\n",
    "\n",
    "def bitstos(bits):\n",
    "    s = []\n",
    "    for b in split_to_blocks(bits, 8):\n",
    "        s.append(btoi(b))\n",
    "    return bytearray(s)\n",
    "\n",
    "def perm(p, b):\n",
    "    return ''.join([b[i] for i in p])\n",
    "\n",
    "def split_to_blocks(b, block_size):\n",
    "    blocks = []\n",
    "    for i in range(1, int((len(b) + block_size) / block_size)):\n",
    "        blocks.append(b[(i - 1) * block_size: i * block_size])\n",
    "    return blocks\n",
    "\n",
    "\n",
    "def cyclic_offset(b, offset, is_left=True):\n",
    "    new_b = ''\n",
    "    if is_left:\n",
    "        for i in range(offset, offset + len(b)):\n",
    "            new_b += b[i % len(b)]\n",
    "    else:\n",
    "        for i in range(0, offset):\n",
    "            b = b[-1] + b[:-1]\n",
    "        new_b = b\n",
    "    return new_b"
   ]
  },
  {
   "cell_type": "code",
   "execution_count": 3,
   "metadata": {},
   "outputs": [],
   "source": [
    "def get_8sub_keys(gost_key):\n",
    "    return [gost_key[i * 32: (i + 1) * 32] for i in range(0, 8)]\n",
    "\n",
    "\n",
    "def sbox_val(sid, bits):\n",
    "    col = btoi(bits)\n",
    "    return gost_data.s_boxes[(sid * 16) + col]\n",
    "\n",
    "\n",
    "def sboxes_perm(data32):\n",
    "    new_data = ''\n",
    "    for sbox_id in range(0, 8):\n",
    "        new_block = data32[sbox_id * 4: (sbox_id + 1) * 4]\n",
    "        new_block = sbox_val(sbox_id, new_block)\n",
    "        new_block = to4bits(bin(new_block)[2:])\n",
    "        new_data += new_block\n",
    "    return new_data\n",
    "\n",
    "\n",
    "def enc_func(data32, key32):\n",
    "    assert (len(data32) == 32 and len(key32) == 32)\n",
    "    data32 = xor_bits(data32, key32)\n",
    "    data32 = sboxes_perm(data32)\n",
    "    data32 = cyclic_offset(data32, 11)\n",
    "    return data32"
   ]
  },
  {
   "cell_type": "code",
   "execution_count": 4,
   "metadata": {},
   "outputs": [],
   "source": [
    "def GOST_round(block, key):\n",
    "    n2, n1 = block[0:32], block[32:]\n",
    "    s = enc_func(n1, key)\n",
    "    s = xor_bits(n2, s)\n",
    "    return n1, s\n",
    "\n",
    "\n",
    "def GOST_ECB(key, message, encrypt=True):\n",
    "    blocks = split_to_blocks(message, 64)\n",
    "    keys = None\n",
    "    sub_keys = get_8sub_keys(key)\n",
    "    if encrypt:\n",
    "        keys = sub_keys * 3 + list(reversed(sub_keys))\n",
    "    else:\n",
    "        keys = sub_keys + list(reversed(sub_keys)) * 3\n",
    "    \n",
    "    new_blocks = []\n",
    "    for i in range(0, len(blocks)):\n",
    "        block = blocks[i]\n",
    "        for i in range(0, 32):\n",
    "            n2, n1 = GOST_round(block, keys[i])\n",
    "            block = n2 + n1\n",
    "        block = block[32:] + block[0:32]\n",
    "        new_blocks.append(block)\n",
    "\n",
    "    return ''.join(new_blocks)"
   ]
  },
  {
   "cell_type": "code",
   "execution_count": 5,
   "metadata": {},
   "outputs": [],
   "source": [
    "def GOST_CBC_ENCRYPT(cbc_vector, key, message):\n",
    "    blocks = split_to_blocks(message, 64)\n",
    "    keys = None\n",
    "    sub_keys = get_8sub_keys(key)\n",
    "    keys = sub_keys * 3 + list(reversed(sub_keys))\n",
    "    \n",
    "    new_blocks = []\n",
    "    for i in range(0, len(blocks)):\n",
    "        block = blocks[i]\n",
    "        block = xor_bits(block, cbc_vector)\n",
    "        for rid in range(0, 32):\n",
    "            n2, n1 = GOST_round(block, keys[rid])\n",
    "            block = n2 + n1\n",
    "        block = block[32:] + block[0:32]\n",
    "        cbc_vector = block \n",
    "        new_blocks.append(block)\n",
    "\n",
    "    return ''.join(new_blocks)\n",
    "\n",
    "\n",
    "def GOST_CBC_DECRYPT(init_cbc_vector, key, message):\n",
    "    blocks = split_to_blocks(message, 64)\n",
    "    sub_keys = get_8sub_keys(key)\n",
    "    keys = sub_keys + list(reversed(sub_keys)) * 3\n",
    "    \n",
    "    new_blocks = []\n",
    "    cbc_vector = None\n",
    "    for i in range(len(blocks) - 1, -1, -1):\n",
    "        block = blocks[i]\n",
    "        for rid in range(0, 32):\n",
    "            n2, n1 = GOST_round(block, keys[rid])\n",
    "            block = n2 + n1\n",
    "        block = block[32:] + block[0:32]\n",
    "        \n",
    "        if i == 0:\n",
    "            cbc_vector = init_cbc_vector\n",
    "        elif i > 0:\n",
    "            cbc_vector = blocks[i - 1]\n",
    "            \n",
    "        block = xor_bits(block, cbc_vector)\n",
    "\n",
    "        new_blocks.append(block)\n",
    "    \n",
    "    new_blocks = list(reversed(new_blocks))\n",
    "    \n",
    "    return ''.join(new_blocks)"
   ]
  },
  {
   "cell_type": "code",
   "execution_count": 6,
   "metadata": {},
   "outputs": [
    {
     "name": "stdout",
     "output_type": "stream",
     "text": [
      "len: 256\n",
      "key: 0011001000110101001101100101111101100011011100100111100101110000011101000110111101011111011010110110010101111001010111110110011001101111011100100101111101100111011011110111001101110100010111110011001000111000001100010011010000110111001011010011100000111001\n"
     ]
    }
   ],
   "source": [
    "gost_256_key = '256_crypto_key_for_gost_28147-89'\n",
    "gost_256_key_bits = stobits(gost_256_key)\n",
    "print(f'len: {len(gost_256_key_bits)}')\n",
    "print(f'key: {gost_256_key_bits}')"
   ]
  },
  {
   "cell_type": "code",
   "execution_count": 7,
   "metadata": {},
   "outputs": [
    {
     "name": "stdout",
     "output_type": "stream",
     "text": [
      "len: 384\n",
      "msg: 011101000110010101111000011101000010000001100110011011110111001000100000011001010110111001100011011100100111100101110000011101000110100101101110011001110010000001110111011010010111010001101000001000000111001001110101011100110111001101101001011000010110111000100000011001110110111101110011011101000010000000110010001110000011000100110100001101110010110100111000001110010000000000000000\n"
     ]
    }
   ],
   "source": [
    "input_msg = 'text for encrypting with russian gost 28147-89'\n",
    "input_msg_bits = sto64(stobits(input_msg))\n",
    "print(f'len: {len(input_msg_bits)}')\n",
    "print(f'msg: {input_msg_bits}')"
   ]
  },
  {
   "cell_type": "markdown",
   "metadata": {},
   "source": [
    "### GOST_ECB"
   ]
  },
  {
   "cell_type": "code",
   "execution_count": 8,
   "metadata": {},
   "outputs": [
    {
     "name": "stdout",
     "output_type": "stream",
     "text": [
      "len: 384\n",
      "enc: 111100100100100100000110111011000110111000000101010110000101001110101000010011100011000000000000101100000010111100101001100100100011001011001011011011100010110000111100100110110001001000100011000010001001001000000111010011010011111010010001100010000101110111101101101111001000001010001110011111011000000000110011110000001100111001111100011010001011001101101101010100011011101101111011\n"
     ]
    }
   ],
   "source": [
    "encrypted_ECB = GOST_ECB(gost_256_key_bits, input_msg_bits)\n",
    "print(f'len: {len(encrypted_ECB)}')\n",
    "print(f'enc: {encrypted_ECB}')"
   ]
  },
  {
   "cell_type": "code",
   "execution_count": 9,
   "metadata": {},
   "outputs": [
    {
     "name": "stdout",
     "output_type": "stream",
     "text": [
      "len: 384\n",
      "enc: 011101000110010101111000011101000010000001100110011011110111001000100000011001010110111001100011011100100111100101110000011101000110100101101110011001110010000001110111011010010111010001101000001000000111001001110101011100110111001101101001011000010110111000100000011001110110111101110011011101000010000000110010001110000011000100110100001101110010110100111000001110010000000000000000\n"
     ]
    }
   ],
   "source": [
    "decrypted_ECB = GOST_ECB(gost_256_key_bits, encrypted_ECB, encrypt=False)\n",
    "print(f'len: {len(decrypted_ECB)}')\n",
    "print(f'enc: {decrypted_ECB}')"
   ]
  },
  {
   "cell_type": "code",
   "execution_count": 10,
   "metadata": {},
   "outputs": [
    {
     "name": "stdout",
     "output_type": "stream",
     "text": [
      "ECB\n",
      "is decrypted == message True\n",
      "\n",
      "decrypted message: text for encrypting with russian gost 28147-89\u0000\u0000\n"
     ]
    }
   ],
   "source": [
    "print('ECB')\n",
    "print(f'is decrypted == message {decrypted_ECB == input_msg_bits}\\n')\n",
    "print(f'decrypted message: {bitstos(decrypted_ECB).decode(\"utf-8\")}')"
   ]
  },
  {
   "cell_type": "markdown",
   "metadata": {},
   "source": [
    "### GOST_CBC"
   ]
  },
  {
   "cell_type": "code",
   "execution_count": 11,
   "metadata": {},
   "outputs": [
    {
     "name": "stdout",
     "output_type": "stream",
     "text": [
      "len: 64\n",
      "iv : 0110001101110010011110010111000001110100011011110011010000110010\n"
     ]
    }
   ],
   "source": [
    "init_cbc_vector = 'crypto42'\n",
    "init_cbc_vector_bits = stobits(init_cbc_vector)\n",
    "print(f'len: {len(init_cbc_vector_bits)}')\n",
    "print(f'iv : {init_cbc_vector_bits}')"
   ]
  },
  {
   "cell_type": "code",
   "execution_count": 12,
   "metadata": {},
   "outputs": [
    {
     "name": "stdout",
     "output_type": "stream",
     "text": [
      "len: 384\n",
      "enc: 010111011000010011111001011001110010110111000111111010001111110010110100100110000100010011100001101000001001111011111010011000000010100000011000000001001001110011110010110010101111011010100011111010001000111101010101100000101011111110100110100001110100100011001100100111010010110010011001011100000001010011110000110101110111101011101110000001000000001010010000011110010010001000001010\n"
     ]
    }
   ],
   "source": [
    "encrypted_CBC = GOST_CBC_ENCRYPT(init_cbc_vector_bits, gost_256_key_bits, input_msg_bits)\n",
    "print(f'len: {len(encrypted_CBC)}')\n",
    "print(f'enc: {encrypted_CBC}')"
   ]
  },
  {
   "cell_type": "code",
   "execution_count": 13,
   "metadata": {},
   "outputs": [
    {
     "name": "stdout",
     "output_type": "stream",
     "text": [
      "len: 384\n",
      "enc: 011101000110010101111000011101000010000001100110011011110111001000100000011001010110111001100011011100100111100101110000011101000110100101101110011001110010000001110111011010010111010001101000001000000111001001110101011100110111001101101001011000010110111000100000011001110110111101110011011101000010000000110010001110000011000100110100001101110010110100111000001110010000000000000000\n"
     ]
    }
   ],
   "source": [
    "decrypted_CBC = GOST_CBC_DECRYPT(init_cbc_vector_bits, gost_256_key_bits, encrypted_CBC)\n",
    "print(f'len: {len(decrypted_CBC)}')\n",
    "print(f'enc: {decrypted_CBC}')"
   ]
  },
  {
   "cell_type": "code",
   "execution_count": 14,
   "metadata": {},
   "outputs": [
    {
     "name": "stdout",
     "output_type": "stream",
     "text": [
      "CBC\n",
      "is decrypted == message True\n",
      "\n",
      "decrypted message: text for encrypting with russian gost 28147-89\u0000\u0000\n"
     ]
    }
   ],
   "source": [
    "print('CBC')\n",
    "print(f'is decrypted == message {decrypted_CBC == input_msg_bits}\\n')\n",
    "print(f'decrypted message: {bitstos(decrypted_CBC).decode(\"utf-8\")}')"
   ]
  }
 ],
 "metadata": {
  "kernelspec": {
   "display_name": "Python 3",
   "language": "python",
   "name": "python3"
  },
  "language_info": {
   "codemirror_mode": {
    "name": "ipython",
    "version": 3
   },
   "file_extension": ".py",
   "mimetype": "text/x-python",
   "name": "python",
   "nbconvert_exporter": "python",
   "pygments_lexer": "ipython3",
   "version": "3.6.9"
  }
 },
 "nbformat": 4,
 "nbformat_minor": 2
}
