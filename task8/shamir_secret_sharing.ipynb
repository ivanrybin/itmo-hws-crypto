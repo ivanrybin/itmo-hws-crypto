{
 "cells": [
  {
   "cell_type": "markdown",
   "metadata": {},
   "source": [
    "#### Cryptography\n",
    "\n",
    "#### Task № 8 - Shamir Secret Sharing\n",
    "\n",
    "#### Ivan Rybin - ITMO JB SE MA 2021"
   ]
  },
  {
   "cell_type": "code",
   "execution_count": 1,
   "metadata": {},
   "outputs": [],
   "source": [
    "import numpy as np\n",
    "from scipy.interpolate import lagrange\n",
    "from numpy.polynomial.polynomial import Polynomial\n",
    "import sympy as sp\n",
    "import sympy.abc\n",
    "import matplotlib.pyplot as plt"
   ]
  },
  {
   "cell_type": "code",
   "execution_count": 2,
   "metadata": {},
   "outputs": [],
   "source": [
    "def is_prime(n: int) -> bool:\n",
    "    if n <= 1:\n",
    "        return False\n",
    "    i = 2\n",
    "    while (i - 1) * (i - 1) < n:\n",
    "        if n % i == 0:\n",
    "            return False\n",
    "        i += 1\n",
    "    return True\n",
    "\n",
    "\n",
    "def find_prime(lower: int, upper: int):\n",
    "    for i in range(lower, upper + 1):\n",
    "        if is_prime(i):\n",
    "            return i\n",
    "    return None\n",
    "\n",
    "\n",
    "def gen_poly_and_prime(n: int, lowerC: int, upperC: int, lowerP: int, upperP: int):\n",
    "    p = find_prime(lowerP, upperP)\n",
    "    while True:\n",
    "        is_good = True\n",
    "        coefs = []\n",
    "        for i in range(0, n - 1):\n",
    "            c = np.random.randint(lowerC, upperC)\n",
    "            if c >= p:\n",
    "                is_good = False\n",
    "                break\n",
    "            coefs.append(c)\n",
    "                \n",
    "        if is_good:\n",
    "            return p, coefs\n",
    "        \n",
    "def calc_poly(coefs, x):\n",
    "    res = 0\n",
    "    for i in range(0, len(coefs[:-1])):\n",
    "        res += coefs[i] * pow(x, len(coefs[:-1]) - i)\n",
    "    return res + coefs[-1]    \n",
    "    \n",
    "\n",
    "def interpolate_poly(xs, ys):\n",
    "    poly = lagrange(xs, ys)\n",
    "    return Polynomial(poly).coef\n",
    "\n",
    "\n",
    "def print_points(xs, ys):\n",
    "    print([(x,y) for x, y in zip(xs, ys)])"
   ]
  },
  {
   "cell_type": "code",
   "execution_count": 3,
   "metadata": {},
   "outputs": [],
   "source": [
    "def SHAMIR_ENCODE(m: int, n: int, msg: int):\n",
    "    p, coefs = gen_poly_and_prime(m, 100, 500, 700, 1000)\n",
    "    coefs.append(msg)\n",
    "    xs = [i for i in range(1, n + 1)]\n",
    "    ys = [calc_poly(coefs, x) % p for x in xs]\n",
    "    return p, coefs, xs, ys\n",
    "\n",
    "\n",
    "def SHAMIR_DECODE(xs, ys, m):\n",
    "    return interpolate_poly(xs[:m], ys[:m])"
   ]
  },
  {
   "cell_type": "code",
   "execution_count": 4,
   "metadata": {},
   "outputs": [
    {
     "name": "stdout",
     "output_type": "stream",
     "text": [
      "INPUT MESSAGE    42\n",
      "TOTAL KEYS       10\n",
      "SHARED TO DECODE 5\n"
     ]
    }
   ],
   "source": [
    "n = 10\n",
    "m = 5\n",
    "msg = 42\n",
    "\n",
    "print(\"INPUT MESSAGE   \", msg)\n",
    "print(\"TOTAL KEYS      \", n)\n",
    "print(\"SHARED TO DECODE\", m)"
   ]
  },
  {
   "cell_type": "code",
   "execution_count": 5,
   "metadata": {},
   "outputs": [],
   "source": [
    "p, coefs, xs, ys = SHAMIR_ENCODE(m, n, msg)\n",
    "decoded = SHAMIR_DECODE(xs, ys, m)"
   ]
  },
  {
   "cell_type": "code",
   "execution_count": 6,
   "metadata": {},
   "outputs": [
    {
     "name": "stdout",
     "output_type": "stream",
     "text": [
      "GENERATED PRIME = 701\n",
      "GENERATED POLY\n"
     ]
    },
    {
     "data": {
      "image/png": "[encoded data removed]",
      "text/latex": [
       "$\\displaystyle 110 x^{4} + 429 x^{3} + 354 x^{2} + 111 x + 42$"
      ],
      "text/plain": [
       "     4        3        2             \n",
       "110⋅x  + 429⋅x  + 354⋅x  + 111⋅x + 42"
      ]
     },
     "execution_count": 6,
     "metadata": {},
     "output_type": "execute_result"
    }
   ],
   "source": [
    "print(\"GENERATED PRIME =\", p)\n",
    "print(\"GENERATED POLY\")\n",
    "sp.init_printing()\n",
    "sp.Poly(coefs, sympy.abc.x).as_expr()"
   ]
  },
  {
   "cell_type": "code",
   "execution_count": 7,
   "metadata": {},
   "outputs": [
    {
     "name": "stdout",
     "output_type": "stream",
     "text": [
      "POINTS BY MODULO 701\n",
      "[(1, 345), (2, 563), (3, 220), (4, 78), (5, 34), (6, 522), (7, 410), (8, 505), (9, 48), (10, 219)]\n"
     ]
    },
    {
     "data": {
      "image/png": "[encoded data removed]",
      "text/plain": [
       "<Figure size 432x288 with 1 Axes>"
      ]
     },
     "metadata": {
      "needs_background": "light"
     },
     "output_type": "display_data"
    }
   ],
   "source": [
    "print(\"POINTS BY MODULO\", p)\n",
    "print_points(xs, ys)\n",
    "plt.scatter(xs, ys)\n",
    "plt.show()"
   ]
  },
  {
   "cell_type": "code",
   "execution_count": 8,
   "metadata": {},
   "outputs": [
    {
     "name": "stdout",
     "output_type": "stream",
     "text": [
      "POLY AFTER LAGRANGE\n"
     ]
    },
    {
     "data": {
      "image/png": "[encoded data removed]",
      "text/latex": [
       "$\\displaystyle - 36.0416666666667 x^{4} + 487.416666666667 x^{3} - 2303.95833333333 x^{2} + 4258.58333333333 x - 2061.0$"
      ],
      "text/plain": [
       "                    4                     3                     2             \n",
       "- 36.0416666666667⋅x  + 487.416666666667⋅x  - 2303.95833333333⋅x  + 4258.58333\n",
       "\n",
       "                 \n",
       "333333⋅x - 2061.0"
      ]
     },
     "execution_count": 8,
     "metadata": {},
     "output_type": "execute_result"
    }
   ],
   "source": [
    "print(\"POLY AFTER LAGRANGE\")\n",
    "sp.init_printing()\n",
    "sp.Poly(decoded, sympy.abc.x).as_expr()"
   ]
  },
  {
   "cell_type": "code",
   "execution_count": 9,
   "metadata": {},
   "outputs": [
    {
     "name": "stdout",
     "output_type": "stream",
     "text": [
      "POLY AFTER LAGRANGE BY MODULO P\n"
     ]
    },
    {
     "data": {
      "image/png": "[encoded data removed]",
      "text/latex": [
       "$\\displaystyle 664.958333333333 x^{4} + 487.416666666667 x^{3} + 500.041666666667 x^{2} + 52.5833333333348 x + 42.0$"
      ],
      "text/plain": [
       "                  4                     3                     2               \n",
       "664.958333333333⋅x  + 487.416666666667⋅x  + 500.041666666667⋅x  + 52.583333333\n",
       "\n",
       "             \n",
       "3348⋅x + 42.0"
      ]
     },
     "execution_count": 9,
     "metadata": {},
     "output_type": "execute_result"
    }
   ],
   "source": [
    "print(\"POLY AFTER LAGRANGE BY MODULO P\")\n",
    "sp.init_printing()\n",
    "sp.Poly(decoded % p, sympy.abc.x).as_expr()"
   ]
  },
  {
   "cell_type": "code",
   "execution_count": 10,
   "metadata": {},
   "outputs": [
    {
     "name": "stdout",
     "output_type": "stream",
     "text": [
      "MESSAGE IS 42.0\n"
     ]
    }
   ],
   "source": [
    "print(\"MESSAGE IS\", decoded[-1] % p)"
   ]
  }
 ],
 "metadata": {
  "kernelspec": {
   "display_name": "Python 3",
   "language": "python",
   "name": "python3"
  },
  "language_info": {
   "codemirror_mode": {
    "name": "ipython",
    "version": 3
   },
   "file_extension": ".py",
   "mimetype": "text/x-python",
   "name": "python",
   "nbconvert_exporter": "python",
   "pygments_lexer": "ipython3",
   "version": "3.6.9"
  }
 },
 "nbformat": 4,
 "nbformat_minor": 2
}
