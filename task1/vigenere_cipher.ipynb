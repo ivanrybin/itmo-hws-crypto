{
 "cells": [
  {
   "cell_type": "markdown",
   "metadata": {},
   "source": [
    "## Cryptography\n",
    "### Task № 1 - Chiffre de Vigenère\n",
    "### Ivan Rybin - ITMO JB SE MA 2021"
   ]
  },
  {
   "cell_type": "code",
   "execution_count": 68,
   "metadata": {},
   "outputs": [],
   "source": [
    "import math\n",
    "from tqdm import tqdm "
   ]
  },
  {
   "cell_type": "code",
   "execution_count": 69,
   "metadata": {},
   "outputs": [],
   "source": [
    "alphabet = 'abcdefghijklmnopqrstuvwxyz'"
   ]
  },
  {
   "cell_type": "code",
   "execution_count": 70,
   "metadata": {},
   "outputs": [],
   "source": [
    "def gen_all_offsets(alphabet: str):\n",
    "    offsets = []\n",
    "    alen = len(alphabet)\n",
    "    chars = [c for c in alphabet]\n",
    "    for i in range(0, alen):\n",
    "        offsets.append([chars[j % alen] for j in range(i, alen + i)])\n",
    "    return offsets\n",
    "\n",
    "def print_offsets(offsets: list):\n",
    "    i = 0\n",
    "    for offset in offsets:\n",
    "        print(\"\".join(offset) + \" - \" + str(i))\n",
    "        i += 1"
   ]
  },
  {
   "cell_type": "code",
   "execution_count": 71,
   "metadata": {},
   "outputs": [
    {
     "name": "stdout",
     "output_type": "stream",
     "text": [
      "abcdefghijklmnopqrstuvwxyz - 0\n",
      "bcdefghijklmnopqrstuvwxyza - 1\n",
      "cdefghijklmnopqrstuvwxyzab - 2\n",
      "defghijklmnopqrstuvwxyzabc - 3\n",
      "efghijklmnopqrstuvwxyzabcd - 4\n",
      "fghijklmnopqrstuvwxyzabcde - 5\n",
      "ghijklmnopqrstuvwxyzabcdef - 6\n",
      "hijklmnopqrstuvwxyzabcdefg - 7\n",
      "ijklmnopqrstuvwxyzabcdefgh - 8\n",
      "jklmnopqrstuvwxyzabcdefghi - 9\n",
      "klmnopqrstuvwxyzabcdefghij - 10\n",
      "lmnopqrstuvwxyzabcdefghijk - 11\n",
      "mnopqrstuvwxyzabcdefghijkl - 12\n",
      "nopqrstuvwxyzabcdefghijklm - 13\n",
      "opqrstuvwxyzabcdefghijklmn - 14\n",
      "pqrstuvwxyzabcdefghijklmno - 15\n",
      "qrstuvwxyzabcdefghijklmnop - 16\n",
      "rstuvwxyzabcdefghijklmnopq - 17\n",
      "stuvwxyzabcdefghijklmnopqr - 18\n",
      "tuvwxyzabcdefghijklmnopqrs - 19\n",
      "uvwxyzabcdefghijklmnopqrst - 20\n",
      "vwxyzabcdefghijklmnopqrstu - 21\n",
      "wxyzabcdefghijklmnopqrstuv - 22\n",
      "xyzabcdefghijklmnopqrstuvw - 23\n",
      "yzabcdefghijklmnopqrstuvwx - 24\n",
      "zabcdefghijklmnopqrstuvwxy - 25\n"
     ]
    }
   ],
   "source": [
    "print_offsets(gen_all_offsets(alphabet))"
   ]
  },
  {
   "cell_type": "code",
   "execution_count": 72,
   "metadata": {},
   "outputs": [],
   "source": [
    "def repeat_key(key, text):\n",
    "    tlen = len(text)\n",
    "    klen = len(key)\n",
    "    k = tlen // klen\n",
    "    return key * k + key[0:tlen % klen]"
   ]
  },
  {
   "cell_type": "code",
   "execution_count": 73,
   "metadata": {},
   "outputs": [
    {
     "name": "stdout",
     "output_type": "stream",
     "text": [
      "0: \n",
      "1: k\n",
      "2: ke\n",
      "3: key\n",
      "4: keyk\n",
      "5: keyke\n",
      "6: keykey\n",
      "7: keykeyk\n",
      "8: keykeyke\n",
      "9: keykeykey\n"
     ]
    }
   ],
   "source": [
    "for i in range(0, 10):\n",
    "    print(f\"{i}: {repeat_key('key', '1' * i)}\")"
   ]
  },
  {
   "cell_type": "code",
   "execution_count": 74,
   "metadata": {},
   "outputs": [],
   "source": [
    "def encode_vigenere(key, text, alphabet):\n",
    "    alpha_ids = dict()\n",
    "    for i in range(0, len(alphabet)):\n",
    "        alpha_ids[alphabet[i]] = i\n",
    "        \n",
    "    alpha_offsets = gen_all_offsets(alphabet)\n",
    "    repeated_key = repeat_key(key, text)\n",
    "    encrypted_msg = []\n",
    "    k = 0\n",
    "    for c in repeated_key:\n",
    "        i = alpha_ids[c]\n",
    "        j = alpha_ids[text[k]]\n",
    "        encrypted_msg.append(alpha_offsets[i][j])\n",
    "        k += 1\n",
    "    return \"\".join(encrypted_msg)\n",
    "\n",
    "\n",
    "def decode_vigenere(key, encoded_text, alphabet):\n",
    "    alpha_ids = dict()\n",
    "    for i in range(0, len(alphabet)):\n",
    "        alpha_ids[alphabet[i]] = i\n",
    "    \n",
    "    alpha_offsets = gen_all_offsets(alphabet)\n",
    "    repeated_key = repeat_key(key, encoded_text)\n",
    "    decrypted_msg = []\n",
    "    k = 0\n",
    "    for c in repeated_key:\n",
    "        i = alpha_ids[c]\n",
    "        a = encoded_text[k]\n",
    "        for j in range(0, len(alphabet)):\n",
    "            if a == alpha_offsets[i][j]:\n",
    "                decrypted_msg.append(alphabet[j])\n",
    "        k += 1\n",
    "        \n",
    "    return \"\".join(decrypted_msg)"
   ]
  },
  {
   "cell_type": "code",
   "execution_count": 75,
   "metadata": {},
   "outputs": [
    {
     "data": {
      "text/plain": [
       "'JVJAHKQIJS'"
      ]
     },
     "execution_count": 75,
     "metadata": {},
     "output_type": "execute_result"
    }
   ],
   "source": [
    "encode_vigenere(\"CRYPTO\", \"HELLOWORLD\", alphabet.upper())"
   ]
  },
  {
   "cell_type": "code",
   "execution_count": 76,
   "metadata": {},
   "outputs": [
    {
     "data": {
      "text/plain": [
       "'HELLOWORLD'"
      ]
     },
     "execution_count": 76,
     "metadata": {},
     "output_type": "execute_result"
    }
   ],
   "source": [
    "decode_vigenere(\"CRYPTO\", \"JVJAHKQIJS\", alphabet.upper())"
   ]
  },
  {
   "cell_type": "code",
   "execution_count": 77,
   "metadata": {},
   "outputs": [],
   "source": [
    "def gen_ngrams(text, n=3):\n",
    "    return [text[i:i+n] for i in range(0, len(text) - 3 + 1)]\n",
    "\n",
    "\n",
    "def count_ngrams(ngrams):\n",
    "    ngrams_cnt = dict()\n",
    "    for ngram in ngrams:\n",
    "        if ngram not in ngrams_cnt:\n",
    "            ngrams_cnt[ngram] = 0\n",
    "        ngrams_cnt[ngram] += 1\n",
    "    return {item[0]: item[1] for item in sorted(ngrams_cnt.items(), reverse=True, key=lambda item: item[1])}\n",
    "\n",
    "\n",
    "def gen_ngrams_positions(text, n = 3):\n",
    "    ngrams = count_ngrams(gen_ngrams(text, n))\n",
    "    ngrams_pos = dict()\n",
    "    for ngram, cnt in ngrams.items():\n",
    "        for i in range(0, len(text)):\n",
    "            if text[i:i + n] == ngram:\n",
    "                if ngram not in ngrams_pos:\n",
    "                    ngrams_pos[ngram] = []\n",
    "                ngrams_pos[ngram].append(i)\n",
    "    return ngrams_pos\n",
    "\n",
    "\n",
    "def gen_ngrams_deltas(text, n = 3):\n",
    "    ngrams_pos = gen_ngrams_positions(text, n)\n",
    "    ngrams_deltas = dict()\n",
    "    for (ngram, poss) in ngrams_pos.items():\n",
    "        deltas = []\n",
    "        if (len(poss) >= 2):\n",
    "            for i in range(1, len(poss)):\n",
    "                deltas.append(poss[i] - poss[i - 1])\n",
    "        if len(deltas) > 1:\n",
    "            ngrams_deltas[ngram] = deltas\n",
    "    return ngrams_deltas\n",
    "\n",
    "\n",
    "def get_gcdc_ngrams(text, n = 3):\n",
    "    ngrams_deltas = gen_ngrams_deltas(text, n)\n",
    "    ngrams_gcds = dict()\n",
    "    for (ngram, deltas) in ngrams_deltas.items():\n",
    "        if len(deltas) > 1:\n",
    "            gcd = deltas[0]\n",
    "            for k in deltas:\n",
    "                gcd = math.gcd(gcd, k)\n",
    "            ngrams_gcds[ngram] = gcd\n",
    "    return ngrams_gcds\n",
    "\n",
    "def get_keys_length(text, n=3):\n",
    "    return set(get_gcdc_ngrams(text, n).values())\n",
    "\n",
    "\n",
    "def get_top_key_length(text, n=3):\n",
    "    top_keys = dict()\n",
    "    for k, v in get_gcdc_ngrams(text, n).items():\n",
    "        if v not in top_keys:\n",
    "            top_keys[v] = 0\n",
    "        top_keys[v] += 1\n",
    "    return [item for item in sorted(top_keys.items(), reverse=True, key=lambda item: item[1])]"
   ]
  },
  {
   "cell_type": "code",
   "execution_count": 78,
   "metadata": {},
   "outputs": [
    {
     "data": {
      "text/plain": [
       "['pri', 'riv', 'ive', 'vet']"
      ]
     },
     "execution_count": 78,
     "metadata": {},
     "output_type": "execute_result"
    }
   ],
   "source": [
    "gen_ngrams(\"privet\")"
   ]
  },
  {
   "cell_type": "code",
   "execution_count": 79,
   "metadata": {},
   "outputs": [
    {
     "data": {
      "text/plain": [
       "{'bbb': 30,\n",
       " 'all': 10,\n",
       " 'lla': 10,\n",
       " 'lal': 5,\n",
       " 'aaa': 4,\n",
       " 'laa': 3,\n",
       " 'aal': 2,\n",
       " 'lab': 2,\n",
       " 'abb': 2,\n",
       " 'bba': 2,\n",
       " 'bal': 2}"
      ]
     },
     "execution_count": 79,
     "metadata": {},
     "output_type": "execute_result"
    }
   ],
   "source": [
    "count_ngrams(gen_ngrams(\"allallallaaaallabbbbbbbbbbbbbbbbballallallallaaaallabbbbbbbbbbbbbbbbballaa\"))"
   ]
  },
  {
   "cell_type": "code",
   "execution_count": 80,
   "metadata": {},
   "outputs": [
    {
     "data": {
      "text/plain": [
       "{'bbb': [36, 37, 38, 39, 40, 41, 42, 43, 44, 45, 46, 47, 48, 49, 50],\n",
       " 'all': [0, 3, 6, 12, 17, 20, 23, 26, 32, 53],\n",
       " 'lla': [1, 4, 7, 13, 18, 21, 24, 27, 33, 54],\n",
       " 'lal': [2, 5, 19, 22, 25],\n",
       " 'aaa': [9, 10, 29, 30],\n",
       " 'laa': [8, 28, 55],\n",
       " 'aal': [11, 31],\n",
       " 'lab': [14, 34],\n",
       " 'bal': [16, 52],\n",
       " 'aba': [15],\n",
       " 'abb': [35],\n",
       " 'bba': [51]}"
      ]
     },
     "execution_count": 80,
     "metadata": {},
     "output_type": "execute_result"
    }
   ],
   "source": [
    "gen_ngrams_positions(\"allallallaaaallaballallallallaaaallabbbbbbbbbbbbbbbbballaa\")"
   ]
  },
  {
   "cell_type": "code",
   "execution_count": 81,
   "metadata": {},
   "outputs": [
    {
     "data": {
      "text/plain": [
       "{'bbb': [1, 1, 1, 1, 1, 1, 1, 1, 1, 1, 1, 1, 1, 1],\n",
       " 'all': [3, 3, 6, 5, 3, 3, 3, 6, 21],\n",
       " 'lla': [3, 3, 6, 5, 3, 3, 3, 6, 21],\n",
       " 'lal': [3, 14, 3, 3],\n",
       " 'aaa': [1, 19, 1],\n",
       " 'laa': [20, 27]}"
      ]
     },
     "execution_count": 81,
     "metadata": {},
     "output_type": "execute_result"
    }
   ],
   "source": [
    "gen_ngrams_deltas(\"allallallaaaallaballallallallaaaallabbbbbbbbbbbbbbbbballaa\")"
   ]
  },
  {
   "cell_type": "code",
   "execution_count": 82,
   "metadata": {},
   "outputs": [
    {
     "data": {
      "text/plain": [
       "{'bbb': 1, 'all': 3, 'lla': 3, 'lal': 3, 'aaa': 1, 'laa': 9}"
      ]
     },
     "execution_count": 82,
     "metadata": {},
     "output_type": "execute_result"
    }
   ],
   "source": [
    "get_gcdc_ngrams(\"allallallaaaallabbbbbbbbbbbbbbbbballallallallaaaallabbbbbbbbbbbbbbbbballaa\")"
   ]
  },
  {
   "cell_type": "code",
   "execution_count": 83,
   "metadata": {},
   "outputs": [
    {
     "data": {
      "text/plain": [
       "{1, 3, 9}"
      ]
     },
     "execution_count": 83,
     "metadata": {},
     "output_type": "execute_result"
    }
   ],
   "source": [
    "get_keys_length(\"allallallaaaallabbbbbbbbbbbbbbbbballallallallaaaallabbbbbbbbbbbbbbbbballaa\")"
   ]
  },
  {
   "cell_type": "code",
   "execution_count": 84,
   "metadata": {},
   "outputs": [
    {
     "data": {
      "text/plain": [
       "[(3, 3), (1, 2), (9, 1)]"
      ]
     },
     "execution_count": 84,
     "metadata": {},
     "output_type": "execute_result"
    }
   ],
   "source": [
    "get_top_key_length(\"allallallaaaallabbbbbbbbbbbbbbbbballallallallaaaallabbbbbbbbbbbbbbbbballaa\")"
   ]
  },
  {
   "cell_type": "code",
   "execution_count": 85,
   "metadata": {},
   "outputs": [],
   "source": [
    "def build_alpha_stats(file_path: str, alphabet):\n",
    "    chars = dict()\n",
    "    with open(file_path, 'r') as f:\n",
    "        for line in tqdm(f):\n",
    "            for c in line.lower():\n",
    "                if c not in chars:\n",
    "                    chars[c] = 0\n",
    "                chars[c] += 1\n",
    "    total = 0\n",
    "    chars_alpha = dict()\n",
    "    for c, cnt in chars.items():\n",
    "        if c in alphabet:\n",
    "            total += cnt\n",
    "            \n",
    "    for c, cnt in chars.items():\n",
    "        if c in alphabet:\n",
    "            chars_alpha[c] = cnt / total\n",
    "            \n",
    "    return [item for item in sorted(chars_alpha.items(), reverse=True, key=lambda item: item[1])]"
   ]
  },
  {
   "cell_type": "code",
   "execution_count": 165,
   "metadata": {},
   "outputs": [],
   "source": [
    "# alpha_analysis = build_alpha_stats('enwiki-20210120-pages-articles-multistream1.xml-p1p41242', alphabet)\n",
    "\n",
    "alpha_analysis = [\n",
    "    ('a', 0.082),\n",
    "    ('b', 0.015),\n",
    "    ('c', 0.028),\n",
    "    ('d', 0.043),\n",
    "    ('e', 0.127),\n",
    "    ('f', 0.022),\n",
    "    ('g', 0.020),\n",
    "    ('h', 0.061),\n",
    "    ('i', 0.070),\n",
    "    ('j', 0.002),\n",
    "    ('k', 0.008),\n",
    "    ('l', 0.040),\n",
    "    ('m', 0.024),\n",
    "    ('n', 0.067),\n",
    "    ('o', 0.075),\n",
    "    ('p', 0.019),\n",
    "    ('q', 0.001),\n",
    "    ('r', 0.060),\n",
    "    ('s', 0.063),\n",
    "    ('t', 0.091),\n",
    "    ('u', 0.028),\n",
    "    ('v', 0.010),\n",
    "    ('w', 0.024),\n",
    "    ('x', 0.002),\n",
    "    ('y', 0.020),\n",
    "    ('z', 0.001)\n",
    "]"
   ]
  },
  {
   "cell_type": "code",
   "execution_count": 166,
   "metadata": {},
   "outputs": [
    {
     "data": {
      "text/plain": [
       "[('a', 0.082),\n",
       " ('b', 0.015),\n",
       " ('c', 0.028),\n",
       " ('d', 0.043),\n",
       " ('e', 0.127),\n",
       " ('f', 0.022),\n",
       " ('g', 0.02),\n",
       " ('h', 0.061),\n",
       " ('i', 0.07),\n",
       " ('j', 0.002),\n",
       " ('k', 0.008),\n",
       " ('l', 0.04),\n",
       " ('m', 0.024),\n",
       " ('n', 0.067),\n",
       " ('o', 0.075),\n",
       " ('p', 0.019),\n",
       " ('q', 0.001),\n",
       " ('r', 0.06),\n",
       " ('s', 0.063),\n",
       " ('t', 0.091),\n",
       " ('u', 0.028),\n",
       " ('v', 0.01),\n",
       " ('w', 0.024),\n",
       " ('x', 0.002),\n",
       " ('y', 0.02),\n",
       " ('z', 0.001)]"
      ]
     },
     "execution_count": 166,
     "metadata": {},
     "output_type": "execute_result"
    }
   ],
   "source": [
    "alpha_analysis"
   ]
  },
  {
   "cell_type": "code",
   "execution_count": 167,
   "metadata": {},
   "outputs": [],
   "source": [
    "def preprocess_input_text(text, alphabet):\n",
    "    new_text = ''\n",
    "    for c in text:\n",
    "        if c not in alphabet:\n",
    "            continue\n",
    "        new_text += c\n",
    "    return new_text"
   ]
  },
  {
   "cell_type": "code",
   "execution_count": 168,
   "metadata": {},
   "outputs": [],
   "source": [
    "input_text = \"\"\"The first well-documented description of a polyalphabetic cipher was by Leon Battista Alberti around 1467 and used a metal cipher disk to switch between cipher alphabets. Alberti's system only switched alphabets after several words, and switches were indicated by writing the letter of the corresponding alphabet in the ciphertext. Later, Johannes Trithemius, in his work Polygraphiae (which was completed in manuscript form in 1508 but first published in 1518),[5] invented the tabula recta, a critical component of the Vigenère cipher.[6] The Trithemius cipher, however, provided a progressive, rather rigid and predictable system for switching between cipher alphabets.[note 1]\n",
    "In 1586 Blaise de Vigenère published a type of polyalphabetic cipher called an autokey cipher – because its key is based on the original plaintext – before the court of Henry III of France.[7] The cipher now known as the Vigenère cipher, however, is that originally described by Giovan Battista Bellaso in his 1553 book La cifra del Sig. Giovan Battista Bellaso.[8] He built upon the tabula recta of Trithemius but added a repeating \"countersign\" (a key) to switch cipher alphabets every letter. Whereas Alberti and Trithemius used a fixed pattern of substitutions, Bellaso's scheme meant the pattern of substitutions could be easily changed, simply by selecting a new key. Keys were typically single words or short phrases, known to both parties in advance, or transmitted \"out of band\" along with the message. Bellaso's method thus required strong security for only the key. As it is relatively easy to secure a short key phrase, such as by a previous private conversation, Bellaso's system was considerably more secure.[citation needed]\n",
    "In the 19th century, the invention of Bellaso's cipher was misattributed to Vigenère. David Kahn, in his book, The Codebreakers lamented this misattribution, saying that history had \"ignored this important contribution and instead named a regressive and elementary cipher for him [Vigenère] though he had nothing to do with it\".[9]\n",
    "The Vigenère cipher gained a reputation for being exceptionally strong. Noted author and mathematician Charles Lutwidge Dodgson (Lewis Carroll) called the Vigenère cipher unbreakable in his 1868 piece \"The Alphabet Cipher\" in a children's magazine. In 1917, Scientific American described the Vigenère cipher as \"impossible of translation\".[10][11] That reputation was not deserved. Charles Babbage is known to have broken a variant of the cipher as early as 1854 but did not publish his work.[12] Kasiski entirely broke the cipher and published the technique in the 19th century, but even in the 16th century, some skilled cryptanalysts could occasionally break the cipher.[9]\n",
    "Cryptographic slide rule used as a calculation aid by the Swiss Army between 1914 and 1940.The Vigenère cipher is simple enough to be a field cipher if it is used in conjunction with cipher disks.[13] The Confederate States of America, for example, used a brass cipher disk to implement the Vigenère cipher during the American Civil War. The Confederacy's messages were far from secret, and the Union regularly cracked its messages. Throughout the war, the Confederate leadership primarily relied upon three key phrases: \"Manchester Bluff\", \"Complete Victory\" and, as the war came to a close, \"Come Retribution\".[14]\n",
    "A Vernam cipher whose key is as long as the message becomes a one-time pad, a theoretically unbreakable cipher.[15] Gilbert Vernam tried to repair the broken cipher (creating the Vernam–Vigenère cipher in 1918), but the technology he used was so cumbersome as to be impracticable.[16]\"\"\""
   ]
  },
  {
   "cell_type": "code",
   "execution_count": 169,
   "metadata": {
    "scrolled": true
   },
   "outputs": [
    {
     "data": {
      "text/plain": [
       "'thefirstwelldocumenteddescriptionofapolyalphabeticcipherwasbyleonbattistaalbertiaroundandusedametalcipherdisktoswitchbetweencipheralphabetsalbertissystemonlyswitchedalphabetsafterseveralwordsandswitcheswereindicatedbywritingtheletterofthecorrespondingalphabetintheciphertextlaterjohannestrithemiusinhisworkpolygraphiaewhichwascompletedinmanuscriptforminbutfirstpublishedininventedthetabularectaacriticalcomponentofthevigenrecipherthetrithemiuscipherhoweverprovidedaprogressiveratherrigidandpredictablesystemforswitchingbetweencipheralphabetsnoteinblaisedevigenrepublishedatypeofpolyalphabeticciphercalledanautokeycipherbecauseitskeyisbasedontheoriginalplaintextbeforethecourtofhenryiiioffrancetheciphernowknownasthevigenrecipherhoweveristhatoriginallydescribedbygiovanbattistabellasoinhisbooklacifradelsiggiovanbattistabellasohebuiltuponthetabularectaoftrithemiusbutaddedarepeatingcountersignakeytoswitchcipheralphabetseveryletterwhereasalbertiandtrithemiususedafixedpatternofsubstitutionsbellasosschememeantthepatternofsubstitutionscouldbeeasilychangedsimplybyselectinganewkeykeysweretypicallysinglewordsorshortphrasesknowntobothpartiesinadvanceortransmittedoutofbandalongwiththemessagebellasosmethodthusrequiredstrongsecurityforonlythekeyasitisrelativelyeasytosecureashortkeyphrasesuchasbyapreviousprivateconversationbellasossystemwasconsiderablymoresecurecitationneededinthethcenturytheinventionofbellasoscipherwasmisattributedtovigenredavidkahninhisbookthecodebreakerslamentedthismisattributionsayingthathistoryhadignoredthisimportantcontributionandinsteadnamedaregressiveandelementarycipherforhimvigenrethoughhehadnothingtodowithitthevigenreciphergainedareputationforbeingexceptionallystrongnotedauthorandmathematiciancharleslutwidgedodgsonlewiscarrollcalledthevigenrecipherunbreakableinhispiecethealphabetcipherinachildrensmagazineinscientificamericandescribedthevigenrecipherasimpossibleoftranslationthatreputationwasnotdeservedcharlesbabbageisknowntohavebrokenavariantofthecipherasearlyasbutdidnotpublishhisworkkasiskientirelybrokethecipherandpublishedthetechniqueinthethcenturybuteveninthethcenturysomeskilledcryptanalystscouldoccasionallybreaktheciphercryptographicslideruleusedasacalculationaidbytheswissarmybetweenandthevigenrecipherissimpleenoughtobeafieldcipherifitisusedinconjunctionwithcipherdiskstheconfederatestatesofamericaforexampleusedabrasscipherdisktoimplementthevigenrecipherduringtheamericancivilwartheconfederacysmessageswerefarfromsecretandtheunionregularlycrackeditsmessagesthroughoutthewartheconfederateleadershipprimarilyrelieduponthreekeyphrasesmanchesterbluffcompletevictoryandasthewarcametoaclosecomeretributionavernamcipherwhosekeyisaslongasthemessagebecomesaonetimepadatheoreticallyunbreakableciphergilbertvernamtriedtorepairthebrokenciphercreatingthevernamvigenrecipherinbutthetechnologyheusedwassocumbersomeastobeimpracticable'"
      ]
     },
     "execution_count": 169,
     "metadata": {},
     "output_type": "execute_result"
    }
   ],
   "source": [
    "text = preprocess_input_text(input_text.lower(), alphabet)\n",
    "text"
   ]
  },
  {
   "cell_type": "code",
   "execution_count": 170,
   "metadata": {},
   "outputs": [
    {
     "data": {
      "text/plain": [
       "'vycubfukutezffajfspkcswsutpxihkfldyorfjntzryyqxhktaxivgiuplpaccdgpckrxlhcrjqxfvzyghipuycwiuvbpfsvrjrbdjvpsbgmkmhpwvtfqxhyvccvwrycgtzryyqxhurjqxfvzqhrgvvkdgzajuxmqjvbpedjrztmgcwrtkggmcgtzyfpslopuqlbheychpstvgcwwerrtwpanpxmwpxrwxzgkrtkchkftvctichicpugczongfpusvzliaseznwxfvvvieovvpyhvceltlhtzrwxaklqxgvkjudkyrfjnzfcgfxtsyygrakcjadfdnvrtwwpdycngeigemtqikxgpwkdxkgvgsqewuycsbbkettghgurwxhcssatfgtrptqtzrxvontmbicpvlihtvyckbugeptvwrycgmvgkpxmvgdgjlqkgftkvqnckxfrimkbrguyekciichlwxvppmvgipxzwfrlsifgugrmodcchrgvvkuhfungivvkeeqxhyvccvwrycgtzryyqxhuemixwpsjpbgguckbugeptiidcghasfrrnisqwndemccnwtpgkgrvwrycgvonccstbclrddsatgeastscrtiuvgilygpghuouvbdghjvmgbukeyaizczlixlvscuhfgkftvcwirdyvgepnbwkfdukoptciaseznwxfpfuzgcyeyhmvgmgvxbtvaxivgifdpsxvpxlhjrrdkwizlpezauchvfkscsumizmktbdrribgvrztezcjmxgvkjzdhynraxyfcucalwixgdoopsyimwukyqxznrqdasdlgamirfliasvrzjeotvaitchkpxmvgdgjlpwkyswsfrptisckgczqqllixfuzectygprdlkkkawvwrycgtzryyqxhuvttkmnvrixfyycgxourjqxfvzycwhtzrwxaklqjlsfrdxqsfgyimstemulidjrxmivzmclpgcjplcujawxagdcpghvycethvvpchtulzhmwvlrxhbutmjerdvcplwnpawtbivbhbarcwqrggccrmwpxycxkmvwzxmuncgxhaggrtznpqxgunvudkrufphactknwkouvqzgcyerducvynpkhkvqxgofmycvsqirgtbudgimsffsihtdrlstzqeelbhjkftfsujyvxpgcjplcudciacfkfjlfghsxksfjrghbijcrnfkkwuhfqejnmvgbcntgkkghksnrrxosnpcplmvfqtvitvyhactkitrdjiyhxgwtfplparngxjkfshifkmyixqqettkgckgdgpgcjplcujwhmsonyhvcpjgsxfcsjnfctvqtvitvaxmovzmcgsgucsbbvyciaqgerjkmvycxgjgerxhbqwztezcjmhvwrycgpoudghthvigqnhgurdowivlgxrcmgsdojegcawusmddhjvadwsdicpdstjjpfspkcsmvkjkxlovkpxuivzmcloazlvmvckfxlhqiwwtrkxldksfkfxlwogmgmopkadghtzzjmwqeycwwpjrttrprktwotvegxguztttbfvjtfspkygrqkgftktqifxfjkxccksvymjzvjvfpwbqkfxguvfbdpwvygimvgmgvxbtvaxivgiepbbguygxdwkyibcpwmguskeetqqggrxhbccjnlhtflvgcvvbpnhjfppgrorrwxackgrboptfpkzgjjjmkkuetwcfxqdgzgnghvotimaeqccjtwhjvtxzspicrbdjvpjgptvyztpnvgcawuggtvsvycpedjrztmqkgftkwprawbzficclacxyobbgzlhvwgerxywerktkwerlsxgeigqxrvyckbugeptvwrycgtgkdndlgksjthtviyclzckgdghjrrgxdwkyibcpnyhgcvuchxfxvbraotcchuodsyvxwubldpbvffposdimzxbcmygbopkmumvgtgeastrqttfnpyhuivugsgcvgsqewuyfxlkqiiztgkjixxbvzptemdimzxhjvaxivgiycwdwsjxlvgurwxhgtfcbewvgcmvgkfrxbvlpnuivvttgwpkftmvevlinfajmbxgmzjaxreiwemoprjnlhutmjerqtaplwqeyaemdicpdhjvaxivgiagrdvfegtdjzahewfvpjeswjcstgctyavinrrxhbczbqrhjvqlbgurpbrpgkutxbcebiasxzetgfgtgeastzqhbarcctgcwxfihpgrdxxzftgeastzdxmwulqtwwptmcciptrxhbyzrwvwrycgwwubqiasefluxrgiyixgvrrtlchrktkwerddkszrkeeswjcstptrqhvwrycgwwubrdbarccbxbvkftowivlgxqkgftkrwigczhjvybxfktycvwxzjltfvycrhbhvbtkoepqbxguretlkgicutfhimblseicitbfkftnbkflgxuwcygemeiyrdsfzrhfsujyvxgvypdnujfsimvgnygmvgtmcysfvppmsnvysxfuygeifkdygbzaicabsflndghjictdsagfgtggjkpgqjvqixfdcsuyqqdnaxhgmgrmctpycwoukftpottybxhqraahggtmbxfgkpxuivzmctjgilpfqkgftkkjfqtdsazqplzqeeplhjvktlgcxcqxqqdchtcpvrxfsrrbpmvgfptmwerjaripspttycsjtvwrycgzwnscgmjgilpfhtzcsmctvnpbfvycqkcmvlrbdjvprksckgczhjvttkbcdtxzspicrbdjvpxgpwkrwxhgtfchzqxwwxiuvbltgufajfpgiqdfscjrduskdngtqvzapuzg'"
      ]
     },
     "execution_count": 170,
     "metadata": {},
     "output_type": "execute_result"
    }
   ],
   "source": [
    "encoded_text = encode_vigenere(\"crypto\", text, alphabet)\n",
    "encoded_text"
   ]
  },
  {
   "cell_type": "code",
   "execution_count": 171,
   "metadata": {},
   "outputs": [],
   "source": [
    "# count_ngrams(gen_ngrams(encoded_text))"
   ]
  },
  {
   "cell_type": "code",
   "execution_count": 172,
   "metadata": {},
   "outputs": [],
   "source": [
    "# get_gcdc_ngrams(encoded_text)"
   ]
  },
  {
   "cell_type": "code",
   "execution_count": 173,
   "metadata": {},
   "outputs": [],
   "source": [
    "# get_keys_length(encoded_text)"
   ]
  },
  {
   "cell_type": "code",
   "execution_count": 174,
   "metadata": {},
   "outputs": [
    {
     "data": {
      "text/plain": [
       "[(6, 82),\n",
       " (2, 9),\n",
       " (1, 8),\n",
       " (3, 6),\n",
       " (66, 6),\n",
       " (12, 5),\n",
       " (18, 5),\n",
       " (30, 3),\n",
       " (4, 2),\n",
       " (54, 2),\n",
       " (24, 2),\n",
       " (42, 2),\n",
       " (48, 1),\n",
       " (108, 1),\n",
       " (9, 1),\n",
       " (36, 1),\n",
       " (60, 1),\n",
       " (10, 1)]"
      ]
     },
     "execution_count": 174,
     "metadata": {},
     "output_type": "execute_result"
    }
   ],
   "source": [
    "get_top_key_length(encoded_text)"
   ]
  },
  {
   "cell_type": "code",
   "execution_count": 202,
   "metadata": {},
   "outputs": [],
   "source": [
    "def get_freqs_by_positions(text, alpha_analysis, n = 3):\n",
    "    top_keys_length = get_top_key_length(text)[0][0]\n",
    "    \n",
    "    pos_freqs = dict()\n",
    "    for pos in range(0, top_keys_length):\n",
    "        letters_freqs = dict()\n",
    "        total_sum = 0\n",
    "        for i in range(pos, len(text), top_keys_length):\n",
    "            c = text[i]\n",
    "            if c not in letters_freqs:\n",
    "                letters_freqs[c] = 0\n",
    "            letters_freqs[c] += 1\n",
    "            total_sum += 1\n",
    "            \n",
    "        for c in alphabet:\n",
    "            is_present = False\n",
    "            for item in letters_freqs:\n",
    "                if item[0] == c:\n",
    "                    is_present = True\n",
    "                    break\n",
    "            if not is_present:\n",
    "                letters_freqs[c] = 0.0\n",
    "        \n",
    "        letters_freqs = [(item[0], item[1] / total_sum) for item in sorted(letters_freqs.items(), key=lambda item: item[0])]\n",
    "        pos_freqs[pos] = letters_freqs\n",
    "    return pos_freqs\n",
    "\n",
    "\n",
    "def match_dicts_with_alpha(text, alpha_analysis, n = 3):\n",
    "    pos_freqss = get_freqs_by_positions(text, alpha_analysis)\n",
    "    matches = dict()\n",
    "    for pos, letters_to_match in pos_freqss.items():\n",
    "        alpha_to_text = dict()\n",
    "        best_offset = find_min_offset(alpha_analysis, letters_to_match)\n",
    "        matches[pos] = [letters_to_match[i % len(letters_to_match)] for i in range(best_offset, len(letters_to_match) + best_offset)]\n",
    "    return matches\n",
    "\n",
    "\n",
    "def find_min_offset(alpha_freqs, pos_freqs):\n",
    "    n = min(len(alpha_freqs), len(pos_freqs))\n",
    "    best_offset = 0\n",
    "    best_min_delta = 1\n",
    "    for offset in range(0, n):\n",
    "        delta = 0\n",
    "        for i in range(0, n):\n",
    "            delta += ((alpha_freqs[i][1] - pos_freqs[(i + offset) % n][1]) ** 2) / n\n",
    "        if delta < best_min_delta:\n",
    "            best_min_delta = delta\n",
    "            best_offset = offset\n",
    "    return best_offset"
   ]
  },
  {
   "cell_type": "code",
   "execution_count": 203,
   "metadata": {},
   "outputs": [],
   "source": [
    "pos_freqs = get_freqs_by_positions(encoded_text, alpha_analysis)"
   ]
  },
  {
   "cell_type": "code",
   "execution_count": 204,
   "metadata": {},
   "outputs": [
    {
     "name": "stdout",
     "output_type": "stream",
     "text": [
      "0:\n",
      "[('a', 0.02510460251046025), ('b', 0.0), ('c', 0.06694560669456066), ('d', 0.027196652719665274), ('e', 0.03347280334728033), ('f', 0.04184100418410042), ('g', 0.13389121338912133), ('h', 0.010460251046025104), ('i', 0.016736401673640166), ('j', 0.058577405857740586), ('k', 0.07112970711297072), ('l', 0.0), ('m', 0.008368200836820083), ('n', 0.03556485355648536), ('o', 0.006276150627615063), ('p', 0.06485355648535565), ('q', 0.043933054393305436), ('r', 0.04602510460251046), ('s', 0.0), ('t', 0.06276150627615062), ('u', 0.08368200836820083), ('v', 0.10460251046025104), ('w', 0.029288702928870293), ('x', 0.010460251046025104), ('y', 0.016736401673640166), ('z', 0.0020920502092050207)]\n",
      "1:\n",
      "[('a', 0.0), ('b', 0.008385744234800839), ('c', 0.03563941299790356), ('d', 0.027253668763102725), ('e', 0.050314465408805034), ('f', 0.04821802935010482), ('g', 0.031446540880503145), ('h', 0.0020964360587002098), ('i', 0.08385744234800839), ('j', 0.050314465408805034), ('k', 0.09014675052410902), ('l', 0.020964360587002098), ('m', 0.016771488469601678), ('n', 0.016771488469601678), ('o', 0.0), ('p', 0.016771488469601678), ('q', 0.0), ('r', 0.08385744234800839), ('s', 0.029350104821802937), ('t', 0.050314465408805034), ('u', 0.033542976939203356), ('v', 0.13417190775681342), ('w', 0.008385744234800839), ('x', 0.020964360587002098), ('y', 0.06918238993710692), ('z', 0.07127882599580712)]\n",
      "2:\n",
      "[('a', 0.04612159329140461), ('b', 0.025157232704402517), ('c', 0.14465408805031446), ('d', 0.012578616352201259), ('e', 0.023060796645702306), ('f', 0.0649895178197065), ('g', 0.09014675052410902), ('h', 0.0), ('i', 0.006289308176100629), ('j', 0.050314465408805034), ('k', 0.020964360587002098), ('l', 0.050314465408805034), ('m', 0.05870020964360587), ('n', 0.025157232704402517), ('o', 0.0), ('p', 0.0649895178197065), ('q', 0.04612159329140461), ('r', 0.0880503144654088), ('s', 0.016771488469601678), ('t', 0.016771488469601678), ('u', 0.014675052410901468), ('v', 0.0020964360587002098), ('w', 0.014675052410901468), ('x', 0.0), ('y', 0.10062893081761007), ('z', 0.016771488469601678)]\n",
      "3:\n",
      "[('a', 0.025157232704402517), ('b', 0.018867924528301886), ('c', 0.06708595387840671), ('d', 0.07127882599580712), ('e', 0.020964360587002098), ('f', 0.0), ('g', 0.07547169811320754), ('h', 0.06708595387840671), ('i', 0.0649895178197065), ('j', 0.031446540880503145), ('k', 0.012578616352201259), ('l', 0.010482180293501049), ('m', 0.0), ('n', 0.020964360587002098), ('o', 0.0020964360587002098), ('p', 0.07547169811320754), ('q', 0.03773584905660377), ('r', 0.03773584905660377), ('s', 0.039832285115303984), ('t', 0.12578616352201258), ('u', 0.020964360587002098), ('v', 0.014675052410901468), ('w', 0.03773584905660377), ('x', 0.10482180293501048), ('y', 0.0020964360587002098), ('z', 0.014675052410901468)]\n",
      "4:\n",
      "[('a', 0.039832285115303984), ('b', 0.06918238993710692), ('c', 0.0020964360587002098), ('d', 0.016771488469601678), ('e', 0.041928721174004195), ('f', 0.029350104821802937), ('g', 0.06289308176100629), ('h', 0.041928721174004195), ('i', 0.031446540880503145), ('j', 0.0), ('k', 0.06289308176100629), ('l', 0.08176100628930817), ('m', 0.08385744234800839), ('n', 0.014675052410901468), ('o', 0.010482180293501049), ('p', 0.014675052410901468), ('q', 0.0041928721174004195), ('r', 0.018867924528301886), ('s', 0.0), ('t', 0.08385744234800839), ('u', 0.025157232704402517), ('v', 0.05241090146750524), ('w', 0.03773584905660377), ('x', 0.14046121593291405), ('y', 0.012578616352201259), ('z', 0.020964360587002098)]\n",
      "5:\n",
      "[('a', 0.016771488469601678), ('b', 0.05870020964360587), ('c', 0.06289308176100629), ('d', 0.027253668763102725), ('e', 0.0020964360587002098), ('f', 0.06918238993710692), ('g', 0.05870020964360587), ('h', 0.0880503144654088), ('i', 0.03563941299790356), ('j', 0.010482180293501049), ('k', 0.014675052410901468), ('l', 0.0020964360587002098), ('m', 0.018867924528301886), ('n', 0.0), ('o', 0.06289308176100629), ('p', 0.03563941299790356), ('q', 0.033542976939203356), ('r', 0.025157232704402517), ('s', 0.12368972746331237), ('t', 0.012578616352201259), ('u', 0.016771488469601678), ('v', 0.05870020964360587), ('w', 0.10482180293501048), ('x', 0.0), ('y', 0.010482180293501049), ('z', 0.050314465408805034)]\n"
     ]
    }
   ],
   "source": [
    "for k, d in pos_freqs.items():\n",
    "    print(f'{k}:')\n",
    "    print(d)"
   ]
  },
  {
   "cell_type": "code",
   "execution_count": 205,
   "metadata": {},
   "outputs": [],
   "source": [
    "dict_with_answers = match_dicts_with_alpha(encoded_text, alpha_analysis)"
   ]
  },
  {
   "cell_type": "code",
   "execution_count": 213,
   "metadata": {},
   "outputs": [
    {
     "data": {
      "text/plain": [
       "{0: [('c', 0.06694560669456066),\n",
       "  ('d', 0.027196652719665274),\n",
       "  ('e', 0.03347280334728033),\n",
       "  ('f', 0.04184100418410042),\n",
       "  ('g', 0.13389121338912133),\n",
       "  ('h', 0.010460251046025104),\n",
       "  ('i', 0.016736401673640166),\n",
       "  ('j', 0.058577405857740586),\n",
       "  ('k', 0.07112970711297072),\n",
       "  ('l', 0.0),\n",
       "  ('m', 0.008368200836820083),\n",
       "  ('n', 0.03556485355648536),\n",
       "  ('o', 0.006276150627615063),\n",
       "  ('p', 0.06485355648535565),\n",
       "  ('q', 0.043933054393305436),\n",
       "  ('r', 0.04602510460251046),\n",
       "  ('s', 0.0),\n",
       "  ('t', 0.06276150627615062),\n",
       "  ('u', 0.08368200836820083),\n",
       "  ('v', 0.10460251046025104),\n",
       "  ('w', 0.029288702928870293),\n",
       "  ('x', 0.010460251046025104),\n",
       "  ('y', 0.016736401673640166),\n",
       "  ('z', 0.0020920502092050207),\n",
       "  ('a', 0.02510460251046025),\n",
       "  ('b', 0.0)],\n",
       " 1: [('r', 0.08385744234800839),\n",
       "  ('s', 0.029350104821802937),\n",
       "  ('t', 0.050314465408805034),\n",
       "  ('u', 0.033542976939203356),\n",
       "  ('v', 0.13417190775681342),\n",
       "  ('w', 0.008385744234800839),\n",
       "  ('x', 0.020964360587002098),\n",
       "  ('y', 0.06918238993710692),\n",
       "  ('z', 0.07127882599580712),\n",
       "  ('a', 0.0),\n",
       "  ('b', 0.008385744234800839),\n",
       "  ('c', 0.03563941299790356),\n",
       "  ('d', 0.027253668763102725),\n",
       "  ('e', 0.050314465408805034),\n",
       "  ('f', 0.04821802935010482),\n",
       "  ('g', 0.031446540880503145),\n",
       "  ('h', 0.0020964360587002098),\n",
       "  ('i', 0.08385744234800839),\n",
       "  ('j', 0.050314465408805034),\n",
       "  ('k', 0.09014675052410902),\n",
       "  ('l', 0.020964360587002098),\n",
       "  ('m', 0.016771488469601678),\n",
       "  ('n', 0.016771488469601678),\n",
       "  ('o', 0.0),\n",
       "  ('p', 0.016771488469601678),\n",
       "  ('q', 0.0)],\n",
       " 2: [('y', 0.10062893081761007),\n",
       "  ('z', 0.016771488469601678),\n",
       "  ('a', 0.04612159329140461),\n",
       "  ('b', 0.025157232704402517),\n",
       "  ('c', 0.14465408805031446),\n",
       "  ('d', 0.012578616352201259),\n",
       "  ('e', 0.023060796645702306),\n",
       "  ('f', 0.0649895178197065),\n",
       "  ('g', 0.09014675052410902),\n",
       "  ('h', 0.0),\n",
       "  ('i', 0.006289308176100629),\n",
       "  ('j', 0.050314465408805034),\n",
       "  ('k', 0.020964360587002098),\n",
       "  ('l', 0.050314465408805034),\n",
       "  ('m', 0.05870020964360587),\n",
       "  ('n', 0.025157232704402517),\n",
       "  ('o', 0.0),\n",
       "  ('p', 0.0649895178197065),\n",
       "  ('q', 0.04612159329140461),\n",
       "  ('r', 0.0880503144654088),\n",
       "  ('s', 0.016771488469601678),\n",
       "  ('t', 0.016771488469601678),\n",
       "  ('u', 0.014675052410901468),\n",
       "  ('v', 0.0020964360587002098),\n",
       "  ('w', 0.014675052410901468),\n",
       "  ('x', 0.0)],\n",
       " 3: [('p', 0.07547169811320754),\n",
       "  ('q', 0.03773584905660377),\n",
       "  ('r', 0.03773584905660377),\n",
       "  ('s', 0.039832285115303984),\n",
       "  ('t', 0.12578616352201258),\n",
       "  ('u', 0.020964360587002098),\n",
       "  ('v', 0.014675052410901468),\n",
       "  ('w', 0.03773584905660377),\n",
       "  ('x', 0.10482180293501048),\n",
       "  ('y', 0.0020964360587002098),\n",
       "  ('z', 0.014675052410901468),\n",
       "  ('a', 0.025157232704402517),\n",
       "  ('b', 0.018867924528301886),\n",
       "  ('c', 0.06708595387840671),\n",
       "  ('d', 0.07127882599580712),\n",
       "  ('e', 0.020964360587002098),\n",
       "  ('f', 0.0),\n",
       "  ('g', 0.07547169811320754),\n",
       "  ('h', 0.06708595387840671),\n",
       "  ('i', 0.0649895178197065),\n",
       "  ('j', 0.031446540880503145),\n",
       "  ('k', 0.012578616352201259),\n",
       "  ('l', 0.010482180293501049),\n",
       "  ('m', 0.0),\n",
       "  ('n', 0.020964360587002098),\n",
       "  ('o', 0.0020964360587002098)],\n",
       " 4: [('t', 0.08385744234800839),\n",
       "  ('u', 0.025157232704402517),\n",
       "  ('v', 0.05241090146750524),\n",
       "  ('w', 0.03773584905660377),\n",
       "  ('x', 0.14046121593291405),\n",
       "  ('y', 0.012578616352201259),\n",
       "  ('z', 0.020964360587002098),\n",
       "  ('a', 0.039832285115303984),\n",
       "  ('b', 0.06918238993710692),\n",
       "  ('c', 0.0020964360587002098),\n",
       "  ('d', 0.016771488469601678),\n",
       "  ('e', 0.041928721174004195),\n",
       "  ('f', 0.029350104821802937),\n",
       "  ('g', 0.06289308176100629),\n",
       "  ('h', 0.041928721174004195),\n",
       "  ('i', 0.031446540880503145),\n",
       "  ('j', 0.0),\n",
       "  ('k', 0.06289308176100629),\n",
       "  ('l', 0.08176100628930817),\n",
       "  ('m', 0.08385744234800839),\n",
       "  ('n', 0.014675052410901468),\n",
       "  ('o', 0.010482180293501049),\n",
       "  ('p', 0.014675052410901468),\n",
       "  ('q', 0.0041928721174004195),\n",
       "  ('r', 0.018867924528301886),\n",
       "  ('s', 0.0)],\n",
       " 5: [('o', 0.06289308176100629),\n",
       "  ('p', 0.03563941299790356),\n",
       "  ('q', 0.033542976939203356),\n",
       "  ('r', 0.025157232704402517),\n",
       "  ('s', 0.12368972746331237),\n",
       "  ('t', 0.012578616352201259),\n",
       "  ('u', 0.016771488469601678),\n",
       "  ('v', 0.05870020964360587),\n",
       "  ('w', 0.10482180293501048),\n",
       "  ('x', 0.0),\n",
       "  ('y', 0.010482180293501049),\n",
       "  ('z', 0.050314465408805034),\n",
       "  ('a', 0.016771488469601678),\n",
       "  ('b', 0.05870020964360587),\n",
       "  ('c', 0.06289308176100629),\n",
       "  ('d', 0.027253668763102725),\n",
       "  ('e', 0.0020964360587002098),\n",
       "  ('f', 0.06918238993710692),\n",
       "  ('g', 0.05870020964360587),\n",
       "  ('h', 0.0880503144654088),\n",
       "  ('i', 0.03563941299790356),\n",
       "  ('j', 0.010482180293501049),\n",
       "  ('k', 0.014675052410901468),\n",
       "  ('l', 0.0020964360587002098),\n",
       "  ('m', 0.018867924528301886),\n",
       "  ('n', 0.0)]}"
      ]
     },
     "execution_count": 213,
     "metadata": {},
     "output_type": "execute_result"
    }
   ],
   "source": [
    "dict_with_answers"
   ]
  },
  {
   "cell_type": "code",
   "execution_count": 210,
   "metadata": {},
   "outputs": [
    {
     "name": "stdout",
     "output_type": "stream",
     "text": [
      "0 c\n",
      "1 r\n",
      "2 y\n",
      "3 p\n",
      "4 t\n",
      "5 o\n"
     ]
    }
   ],
   "source": [
    "for pos, alphas_offsets in dict_with_answers.items():\n",
    "    print(f\"{pos} {alphas_offsets[0][0]}\")"
   ]
  },
  {
   "cell_type": "code",
   "execution_count": 214,
   "metadata": {},
   "outputs": [
    {
     "data": {
      "text/plain": [
       "'thefirstwelldocumenteddescriptionofapolyalphabeticcipherwasbyleonbattistaalbertiaroundandusedametalcipherdisktoswitchbetweencipheralphabetsalbertissystemonlyswitchedalphabetsafterseveralwordsandswitcheswereindicatedbywritingtheletterofthecorrespondingalphabetintheciphertextlaterjohannestrithemiusinhisworkpolygraphiaewhichwascompletedinmanuscriptforminbutfirstpublishedininventedthetabularectaacriticalcomponentofthevigenrecipherthetrithemiuscipherhoweverprovidedaprogressiveratherrigidandpredictablesystemforswitchingbetweencipheralphabetsnoteinblaisedevigenrepublishedatypeofpolyalphabeticciphercalledanautokeycipherbecauseitskeyisbasedontheoriginalplaintextbeforethecourtofhenryiiioffrancetheciphernowknownasthevigenrecipherhoweveristhatoriginallydescribedbygiovanbattistabellasoinhisbooklacifradelsiggiovanbattistabellasohebuiltuponthetabularectaoftrithemiusbutaddedarepeatingcountersignakeytoswitchcipheralphabetseveryletterwhereasalbertiandtrithemiususedafixedpatternofsubstitutionsbellasosschememeantthepatternofsubstitutionscouldbeeasilychangedsimplybyselectinganewkeykeysweretypicallysinglewordsorshortphrasesknowntobothpartiesinadvanceortransmittedoutofbandalongwiththemessagebellasosmethodthusrequiredstrongsecurityforonlythekeyasitisrelativelyeasytosecureashortkeyphrasesuchasbyapreviousprivateconversationbellasossystemwasconsiderablymoresecurecitationneededinthethcenturytheinventionofbellasoscipherwasmisattributedtovigenredavidkahninhisbookthecodebreakerslamentedthismisattributionsayingthathistoryhadignoredthisimportantcontributionandinsteadnamedaregressiveandelementarycipherforhimvigenrethoughhehadnothingtodowithitthevigenreciphergainedareputationforbeingexceptionallystrongnotedauthorandmathematiciancharleslutwidgedodgsonlewiscarrollcalledthevigenrecipherunbreakableinhispiecethealphabetcipherinachildrensmagazineinscientificamericandescribedthevigenrecipherasimpossibleoftranslationthatreputationwasnotdeservedcharlesbabbageisknowntohavebrokenavariantofthecipherasearlyasbutdidnotpublishhisworkkasiskientirelybrokethecipherandpublishedthetechniqueinthethcenturybuteveninthethcenturysomeskilledcryptanalystscouldoccasionallybreaktheciphercryptographicslideruleusedasacalculationaidbytheswissarmybetweenandthevigenrecipherissimpleenoughtobeafieldcipherifitisusedinconjunctionwithcipherdiskstheconfederatestatesofamericaforexampleusedabrasscipherdisktoimplementthevigenrecipherduringtheamericancivilwartheconfederacysmessageswerefarfromsecretandtheunionregularlycrackeditsmessagesthroughoutthewartheconfederateleadershipprimarilyrelieduponthreekeyphrasesmanchesterbluffcompletevictoryandasthewarcametoaclosecomeretributionavernamcipherwhosekeyisaslongasthemessagebecomesaonetimepadatheoreticallyunbreakableciphergilbertvernamtriedtorepairthebrokenciphercreatingthevernamvigenrecipherinbutthetechnologyheusedwassocumbersomeastobeimpracticable'"
      ]
     },
     "execution_count": 214,
     "metadata": {},
     "output_type": "execute_result"
    }
   ],
   "source": [
    "decode_vigenere(\"crypto\", encoded_text, alphabet)"
   ]
  }
 ],
 "metadata": {
  "kernelspec": {
   "display_name": "Python 3",
   "language": "python",
   "name": "python3"
  },
  "language_info": {
   "codemirror_mode": {
    "name": "ipython",
    "version": 3
   },
   "file_extension": ".py",
   "mimetype": "text/x-python",
   "name": "python",
   "nbconvert_exporter": "python",
   "pygments_lexer": "ipython3",
   "version": "3.6.9"
  }
 },
 "nbformat": 4,
 "nbformat_minor": 2
}
